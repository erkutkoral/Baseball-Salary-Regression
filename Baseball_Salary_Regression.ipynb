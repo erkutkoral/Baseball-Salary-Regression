{
 "cells": [
  {
   "cell_type": "code",
   "execution_count": 1,
   "id": "ea6ae09b",
   "metadata": {},
   "outputs": [],
   "source": [
    "import numpy as np\n",
    "import pandas as pd\n",
    "import matplotlib.pyplot as plt\n",
    "import seaborn as sns"
   ]
  },
  {
   "cell_type": "code",
   "execution_count": 2,
   "id": "8cdee80a",
   "metadata": {},
   "outputs": [],
   "source": [
    "from sklearn.linear_model import LinearRegression\n",
    "from sklearn.metrics import mean_squared_error, mean_absolute_error\n",
    "from sklearn.model_selection import train_test_split, cross_val_score\n",
    "from sklearn.preprocessing import RobustScaler"
   ]
  },
  {
   "cell_type": "code",
   "execution_count": 3,
   "id": "eafd2b11",
   "metadata": {},
   "outputs": [],
   "source": [
    "pd.set_option('display.max_columns', None)\n",
    "pd.set_option('display.max_rows', None)\n",
    "pd.set_option('display.width', 500)\n",
    "pd.set_option('display.float_format', lambda x: '%.2f' % x)"
   ]
  },
  {
   "cell_type": "code",
   "execution_count": 4,
   "id": "03f18415",
   "metadata": {},
   "outputs": [],
   "source": [
    "import warnings\n",
    "warnings.filterwarnings(\"ignore\")"
   ]
  },
  {
   "cell_type": "code",
   "execution_count": 5,
   "id": "aec412f1",
   "metadata": {},
   "outputs": [],
   "source": [
    "df = pd.read_csv(\"hitters.csv\")"
   ]
  },
  {
   "cell_type": "code",
   "execution_count": 6,
   "id": "0219eb06",
   "metadata": {},
   "outputs": [
    {
     "data": {
      "text/html": [
       "<div>\n",
       "<style scoped>\n",
       "    .dataframe tbody tr th:only-of-type {\n",
       "        vertical-align: middle;\n",
       "    }\n",
       "\n",
       "    .dataframe tbody tr th {\n",
       "        vertical-align: top;\n",
       "    }\n",
       "\n",
       "    .dataframe thead th {\n",
       "        text-align: right;\n",
       "    }\n",
       "</style>\n",
       "<table border=\"1\" class=\"dataframe\">\n",
       "  <thead>\n",
       "    <tr style=\"text-align: right;\">\n",
       "      <th></th>\n",
       "      <th>AtBat</th>\n",
       "      <th>Hits</th>\n",
       "      <th>HmRun</th>\n",
       "      <th>Runs</th>\n",
       "      <th>RBI</th>\n",
       "      <th>Walks</th>\n",
       "      <th>Years</th>\n",
       "      <th>CAtBat</th>\n",
       "      <th>CHits</th>\n",
       "      <th>CHmRun</th>\n",
       "      <th>CRuns</th>\n",
       "      <th>CRBI</th>\n",
       "      <th>CWalks</th>\n",
       "      <th>League</th>\n",
       "      <th>Division</th>\n",
       "      <th>PutOuts</th>\n",
       "      <th>Assists</th>\n",
       "      <th>Errors</th>\n",
       "      <th>Salary</th>\n",
       "      <th>NewLeague</th>\n",
       "    </tr>\n",
       "  </thead>\n",
       "  <tbody>\n",
       "    <tr>\n",
       "      <th>0</th>\n",
       "      <td>293</td>\n",
       "      <td>66</td>\n",
       "      <td>1</td>\n",
       "      <td>30</td>\n",
       "      <td>29</td>\n",
       "      <td>14</td>\n",
       "      <td>1</td>\n",
       "      <td>293</td>\n",
       "      <td>66</td>\n",
       "      <td>1</td>\n",
       "      <td>30</td>\n",
       "      <td>29</td>\n",
       "      <td>14</td>\n",
       "      <td>A</td>\n",
       "      <td>E</td>\n",
       "      <td>446</td>\n",
       "      <td>33</td>\n",
       "      <td>20</td>\n",
       "      <td>NaN</td>\n",
       "      <td>A</td>\n",
       "    </tr>\n",
       "    <tr>\n",
       "      <th>1</th>\n",
       "      <td>315</td>\n",
       "      <td>81</td>\n",
       "      <td>7</td>\n",
       "      <td>24</td>\n",
       "      <td>38</td>\n",
       "      <td>39</td>\n",
       "      <td>14</td>\n",
       "      <td>3449</td>\n",
       "      <td>835</td>\n",
       "      <td>69</td>\n",
       "      <td>321</td>\n",
       "      <td>414</td>\n",
       "      <td>375</td>\n",
       "      <td>N</td>\n",
       "      <td>W</td>\n",
       "      <td>632</td>\n",
       "      <td>43</td>\n",
       "      <td>10</td>\n",
       "      <td>475.00</td>\n",
       "      <td>N</td>\n",
       "    </tr>\n",
       "    <tr>\n",
       "      <th>2</th>\n",
       "      <td>479</td>\n",
       "      <td>130</td>\n",
       "      <td>18</td>\n",
       "      <td>66</td>\n",
       "      <td>72</td>\n",
       "      <td>76</td>\n",
       "      <td>3</td>\n",
       "      <td>1624</td>\n",
       "      <td>457</td>\n",
       "      <td>63</td>\n",
       "      <td>224</td>\n",
       "      <td>266</td>\n",
       "      <td>263</td>\n",
       "      <td>A</td>\n",
       "      <td>W</td>\n",
       "      <td>880</td>\n",
       "      <td>82</td>\n",
       "      <td>14</td>\n",
       "      <td>480.00</td>\n",
       "      <td>A</td>\n",
       "    </tr>\n",
       "    <tr>\n",
       "      <th>3</th>\n",
       "      <td>496</td>\n",
       "      <td>141</td>\n",
       "      <td>20</td>\n",
       "      <td>65</td>\n",
       "      <td>78</td>\n",
       "      <td>37</td>\n",
       "      <td>11</td>\n",
       "      <td>5628</td>\n",
       "      <td>1575</td>\n",
       "      <td>225</td>\n",
       "      <td>828</td>\n",
       "      <td>838</td>\n",
       "      <td>354</td>\n",
       "      <td>N</td>\n",
       "      <td>E</td>\n",
       "      <td>200</td>\n",
       "      <td>11</td>\n",
       "      <td>3</td>\n",
       "      <td>500.00</td>\n",
       "      <td>N</td>\n",
       "    </tr>\n",
       "    <tr>\n",
       "      <th>4</th>\n",
       "      <td>321</td>\n",
       "      <td>87</td>\n",
       "      <td>10</td>\n",
       "      <td>39</td>\n",
       "      <td>42</td>\n",
       "      <td>30</td>\n",
       "      <td>2</td>\n",
       "      <td>396</td>\n",
       "      <td>101</td>\n",
       "      <td>12</td>\n",
       "      <td>48</td>\n",
       "      <td>46</td>\n",
       "      <td>33</td>\n",
       "      <td>N</td>\n",
       "      <td>E</td>\n",
       "      <td>805</td>\n",
       "      <td>40</td>\n",
       "      <td>4</td>\n",
       "      <td>91.50</td>\n",
       "      <td>N</td>\n",
       "    </tr>\n",
       "  </tbody>\n",
       "</table>\n",
       "</div>"
      ],
      "text/plain": [
       "   AtBat  Hits  HmRun  Runs  RBI  Walks  Years  CAtBat  CHits  CHmRun  CRuns  CRBI  CWalks League Division  PutOuts  Assists  Errors  Salary NewLeague\n",
       "0    293    66      1    30   29     14      1     293     66       1     30    29      14      A        E      446       33      20     NaN         A\n",
       "1    315    81      7    24   38     39     14    3449    835      69    321   414     375      N        W      632       43      10  475.00         N\n",
       "2    479   130     18    66   72     76      3    1624    457      63    224   266     263      A        W      880       82      14  480.00         A\n",
       "3    496   141     20    65   78     37     11    5628   1575     225    828   838     354      N        E      200       11       3  500.00         N\n",
       "4    321    87     10    39   42     30      2     396    101      12     48    46      33      N        E      805       40       4   91.50         N"
      ]
     },
     "execution_count": 6,
     "metadata": {},
     "output_type": "execute_result"
    }
   ],
   "source": [
    "df.head()"
   ]
  },
  {
   "cell_type": "markdown",
   "id": "91a6228b",
   "metadata": {},
   "source": [
    "- #### 322 Sample \n",
    "- #### 20 Variable"
   ]
  },
  {
   "cell_type": "code",
   "execution_count": 7,
   "id": "b6a3a8f4",
   "metadata": {},
   "outputs": [
    {
     "data": {
      "text/plain": [
       "(322, 20)"
      ]
     },
     "execution_count": 7,
     "metadata": {},
     "output_type": "execute_result"
    }
   ],
   "source": [
    "df.shape"
   ]
  },
  {
   "cell_type": "code",
   "execution_count": 8,
   "id": "ec948425",
   "metadata": {},
   "outputs": [
    {
     "name": "stdout",
     "output_type": "stream",
     "text": [
      "<class 'pandas.core.frame.DataFrame'>\n",
      "RangeIndex: 322 entries, 0 to 321\n",
      "Data columns (total 20 columns):\n",
      " #   Column     Non-Null Count  Dtype  \n",
      "---  ------     --------------  -----  \n",
      " 0   AtBat      322 non-null    int64  \n",
      " 1   Hits       322 non-null    int64  \n",
      " 2   HmRun      322 non-null    int64  \n",
      " 3   Runs       322 non-null    int64  \n",
      " 4   RBI        322 non-null    int64  \n",
      " 5   Walks      322 non-null    int64  \n",
      " 6   Years      322 non-null    int64  \n",
      " 7   CAtBat     322 non-null    int64  \n",
      " 8   CHits      322 non-null    int64  \n",
      " 9   CHmRun     322 non-null    int64  \n",
      " 10  CRuns      322 non-null    int64  \n",
      " 11  CRBI       322 non-null    int64  \n",
      " 12  CWalks     322 non-null    int64  \n",
      " 13  League     322 non-null    object \n",
      " 14  Division   322 non-null    object \n",
      " 15  PutOuts    322 non-null    int64  \n",
      " 16  Assists    322 non-null    int64  \n",
      " 17  Errors     322 non-null    int64  \n",
      " 18  Salary     263 non-null    float64\n",
      " 19  NewLeague  322 non-null    object \n",
      "dtypes: float64(1), int64(16), object(3)\n",
      "memory usage: 50.4+ KB\n"
     ]
    }
   ],
   "source": [
    "df.info()"
   ]
  },
  {
   "cell_type": "code",
   "execution_count": 9,
   "id": "92c45bfd",
   "metadata": {},
   "outputs": [
    {
     "data": {
      "text/plain": [
       "Salary       59\n",
       "AtBat         0\n",
       "Hits          0\n",
       "Errors        0\n",
       "Assists       0\n",
       "PutOuts       0\n",
       "Division      0\n",
       "League        0\n",
       "CWalks        0\n",
       "CRBI          0\n",
       "CRuns         0\n",
       "CHmRun        0\n",
       "CHits         0\n",
       "CAtBat        0\n",
       "Years         0\n",
       "Walks         0\n",
       "RBI           0\n",
       "Runs          0\n",
       "HmRun         0\n",
       "NewLeague     0\n",
       "dtype: int64"
      ]
     },
     "execution_count": 9,
     "metadata": {},
     "output_type": "execute_result"
    }
   ],
   "source": [
    "df.isnull().sum().sort_values(ascending = False)"
   ]
  },
  {
   "cell_type": "markdown",
   "id": "df8f597d",
   "metadata": {},
   "source": [
    "- #### There are only missing values in Salary variable which is our target variable.\n",
    "- #### Maybe need to drop these values because imputing these values might cause bias in model."
   ]
  },
  {
   "cell_type": "code",
   "execution_count": 10,
   "id": "f868df07",
   "metadata": {},
   "outputs": [
    {
     "data": {
      "text/html": [
       "<div>\n",
       "<style scoped>\n",
       "    .dataframe tbody tr th:only-of-type {\n",
       "        vertical-align: middle;\n",
       "    }\n",
       "\n",
       "    .dataframe tbody tr th {\n",
       "        vertical-align: top;\n",
       "    }\n",
       "\n",
       "    .dataframe thead th {\n",
       "        text-align: right;\n",
       "    }\n",
       "</style>\n",
       "<table border=\"1\" class=\"dataframe\">\n",
       "  <thead>\n",
       "    <tr style=\"text-align: right;\">\n",
       "      <th></th>\n",
       "      <th>count</th>\n",
       "      <th>mean</th>\n",
       "      <th>std</th>\n",
       "      <th>min</th>\n",
       "      <th>25%</th>\n",
       "      <th>50%</th>\n",
       "      <th>75%</th>\n",
       "      <th>max</th>\n",
       "    </tr>\n",
       "  </thead>\n",
       "  <tbody>\n",
       "    <tr>\n",
       "      <th>AtBat</th>\n",
       "      <td>322.00</td>\n",
       "      <td>380.93</td>\n",
       "      <td>153.40</td>\n",
       "      <td>16.00</td>\n",
       "      <td>255.25</td>\n",
       "      <td>379.50</td>\n",
       "      <td>512.00</td>\n",
       "      <td>687.00</td>\n",
       "    </tr>\n",
       "    <tr>\n",
       "      <th>Hits</th>\n",
       "      <td>322.00</td>\n",
       "      <td>101.02</td>\n",
       "      <td>46.45</td>\n",
       "      <td>1.00</td>\n",
       "      <td>64.00</td>\n",
       "      <td>96.00</td>\n",
       "      <td>137.00</td>\n",
       "      <td>238.00</td>\n",
       "    </tr>\n",
       "    <tr>\n",
       "      <th>HmRun</th>\n",
       "      <td>322.00</td>\n",
       "      <td>10.77</td>\n",
       "      <td>8.71</td>\n",
       "      <td>0.00</td>\n",
       "      <td>4.00</td>\n",
       "      <td>8.00</td>\n",
       "      <td>16.00</td>\n",
       "      <td>40.00</td>\n",
       "    </tr>\n",
       "    <tr>\n",
       "      <th>Runs</th>\n",
       "      <td>322.00</td>\n",
       "      <td>50.91</td>\n",
       "      <td>26.02</td>\n",
       "      <td>0.00</td>\n",
       "      <td>30.25</td>\n",
       "      <td>48.00</td>\n",
       "      <td>69.00</td>\n",
       "      <td>130.00</td>\n",
       "    </tr>\n",
       "    <tr>\n",
       "      <th>RBI</th>\n",
       "      <td>322.00</td>\n",
       "      <td>48.03</td>\n",
       "      <td>26.17</td>\n",
       "      <td>0.00</td>\n",
       "      <td>28.00</td>\n",
       "      <td>44.00</td>\n",
       "      <td>64.75</td>\n",
       "      <td>121.00</td>\n",
       "    </tr>\n",
       "    <tr>\n",
       "      <th>Walks</th>\n",
       "      <td>322.00</td>\n",
       "      <td>38.74</td>\n",
       "      <td>21.64</td>\n",
       "      <td>0.00</td>\n",
       "      <td>22.00</td>\n",
       "      <td>35.00</td>\n",
       "      <td>53.00</td>\n",
       "      <td>105.00</td>\n",
       "    </tr>\n",
       "    <tr>\n",
       "      <th>Years</th>\n",
       "      <td>322.00</td>\n",
       "      <td>7.44</td>\n",
       "      <td>4.93</td>\n",
       "      <td>1.00</td>\n",
       "      <td>4.00</td>\n",
       "      <td>6.00</td>\n",
       "      <td>11.00</td>\n",
       "      <td>24.00</td>\n",
       "    </tr>\n",
       "    <tr>\n",
       "      <th>CAtBat</th>\n",
       "      <td>322.00</td>\n",
       "      <td>2648.68</td>\n",
       "      <td>2324.21</td>\n",
       "      <td>19.00</td>\n",
       "      <td>816.75</td>\n",
       "      <td>1928.00</td>\n",
       "      <td>3924.25</td>\n",
       "      <td>14053.00</td>\n",
       "    </tr>\n",
       "    <tr>\n",
       "      <th>CHits</th>\n",
       "      <td>322.00</td>\n",
       "      <td>717.57</td>\n",
       "      <td>654.47</td>\n",
       "      <td>4.00</td>\n",
       "      <td>209.00</td>\n",
       "      <td>508.00</td>\n",
       "      <td>1059.25</td>\n",
       "      <td>4256.00</td>\n",
       "    </tr>\n",
       "    <tr>\n",
       "      <th>CHmRun</th>\n",
       "      <td>322.00</td>\n",
       "      <td>69.49</td>\n",
       "      <td>86.27</td>\n",
       "      <td>0.00</td>\n",
       "      <td>14.00</td>\n",
       "      <td>37.50</td>\n",
       "      <td>90.00</td>\n",
       "      <td>548.00</td>\n",
       "    </tr>\n",
       "    <tr>\n",
       "      <th>CRuns</th>\n",
       "      <td>322.00</td>\n",
       "      <td>358.80</td>\n",
       "      <td>334.11</td>\n",
       "      <td>1.00</td>\n",
       "      <td>100.25</td>\n",
       "      <td>247.00</td>\n",
       "      <td>526.25</td>\n",
       "      <td>2165.00</td>\n",
       "    </tr>\n",
       "    <tr>\n",
       "      <th>CRBI</th>\n",
       "      <td>322.00</td>\n",
       "      <td>330.12</td>\n",
       "      <td>333.22</td>\n",
       "      <td>0.00</td>\n",
       "      <td>88.75</td>\n",
       "      <td>220.50</td>\n",
       "      <td>426.25</td>\n",
       "      <td>1659.00</td>\n",
       "    </tr>\n",
       "    <tr>\n",
       "      <th>CWalks</th>\n",
       "      <td>322.00</td>\n",
       "      <td>260.24</td>\n",
       "      <td>267.06</td>\n",
       "      <td>0.00</td>\n",
       "      <td>67.25</td>\n",
       "      <td>170.50</td>\n",
       "      <td>339.25</td>\n",
       "      <td>1566.00</td>\n",
       "    </tr>\n",
       "    <tr>\n",
       "      <th>PutOuts</th>\n",
       "      <td>322.00</td>\n",
       "      <td>288.94</td>\n",
       "      <td>280.70</td>\n",
       "      <td>0.00</td>\n",
       "      <td>109.25</td>\n",
       "      <td>212.00</td>\n",
       "      <td>325.00</td>\n",
       "      <td>1378.00</td>\n",
       "    </tr>\n",
       "    <tr>\n",
       "      <th>Assists</th>\n",
       "      <td>322.00</td>\n",
       "      <td>106.91</td>\n",
       "      <td>136.85</td>\n",
       "      <td>0.00</td>\n",
       "      <td>7.00</td>\n",
       "      <td>39.50</td>\n",
       "      <td>166.00</td>\n",
       "      <td>492.00</td>\n",
       "    </tr>\n",
       "    <tr>\n",
       "      <th>Errors</th>\n",
       "      <td>322.00</td>\n",
       "      <td>8.04</td>\n",
       "      <td>6.37</td>\n",
       "      <td>0.00</td>\n",
       "      <td>3.00</td>\n",
       "      <td>6.00</td>\n",
       "      <td>11.00</td>\n",
       "      <td>32.00</td>\n",
       "    </tr>\n",
       "    <tr>\n",
       "      <th>Salary</th>\n",
       "      <td>263.00</td>\n",
       "      <td>535.93</td>\n",
       "      <td>451.12</td>\n",
       "      <td>67.50</td>\n",
       "      <td>190.00</td>\n",
       "      <td>425.00</td>\n",
       "      <td>750.00</td>\n",
       "      <td>2460.00</td>\n",
       "    </tr>\n",
       "  </tbody>\n",
       "</table>\n",
       "</div>"
      ],
      "text/plain": [
       "         count    mean     std   min    25%     50%     75%      max\n",
       "AtBat   322.00  380.93  153.40 16.00 255.25  379.50  512.00   687.00\n",
       "Hits    322.00  101.02   46.45  1.00  64.00   96.00  137.00   238.00\n",
       "HmRun   322.00   10.77    8.71  0.00   4.00    8.00   16.00    40.00\n",
       "Runs    322.00   50.91   26.02  0.00  30.25   48.00   69.00   130.00\n",
       "RBI     322.00   48.03   26.17  0.00  28.00   44.00   64.75   121.00\n",
       "Walks   322.00   38.74   21.64  0.00  22.00   35.00   53.00   105.00\n",
       "Years   322.00    7.44    4.93  1.00   4.00    6.00   11.00    24.00\n",
       "CAtBat  322.00 2648.68 2324.21 19.00 816.75 1928.00 3924.25 14053.00\n",
       "CHits   322.00  717.57  654.47  4.00 209.00  508.00 1059.25  4256.00\n",
       "CHmRun  322.00   69.49   86.27  0.00  14.00   37.50   90.00   548.00\n",
       "CRuns   322.00  358.80  334.11  1.00 100.25  247.00  526.25  2165.00\n",
       "CRBI    322.00  330.12  333.22  0.00  88.75  220.50  426.25  1659.00\n",
       "CWalks  322.00  260.24  267.06  0.00  67.25  170.50  339.25  1566.00\n",
       "PutOuts 322.00  288.94  280.70  0.00 109.25  212.00  325.00  1378.00\n",
       "Assists 322.00  106.91  136.85  0.00   7.00   39.50  166.00   492.00\n",
       "Errors  322.00    8.04    6.37  0.00   3.00    6.00   11.00    32.00\n",
       "Salary  263.00  535.93  451.12 67.50 190.00  425.00  750.00  2460.00"
      ]
     },
     "execution_count": 10,
     "metadata": {},
     "output_type": "execute_result"
    }
   ],
   "source": [
    "df.describe().T"
   ]
  },
  {
   "cell_type": "markdown",
   "id": "1ddd09e1",
   "metadata": {},
   "source": [
    "- #### Between 75% and Max. stages of data, there are some suspicious situations.\n",
    "- #### For example, In CAtBati Chits, CHmRun variables there are some inbalanced view in %75 - Max. stages of data. There may be outliers in these variables. Let's check in more detail percentages."
   ]
  },
  {
   "cell_type": "code",
   "execution_count": 11,
   "id": "d1943d4f",
   "metadata": {},
   "outputs": [
    {
     "data": {
      "text/html": [
       "<div>\n",
       "<style scoped>\n",
       "    .dataframe tbody tr th:only-of-type {\n",
       "        vertical-align: middle;\n",
       "    }\n",
       "\n",
       "    .dataframe tbody tr th {\n",
       "        vertical-align: top;\n",
       "    }\n",
       "\n",
       "    .dataframe thead th {\n",
       "        text-align: right;\n",
       "    }\n",
       "</style>\n",
       "<table border=\"1\" class=\"dataframe\">\n",
       "  <thead>\n",
       "    <tr style=\"text-align: right;\">\n",
       "      <th></th>\n",
       "      <th>count</th>\n",
       "      <th>mean</th>\n",
       "      <th>std</th>\n",
       "      <th>min</th>\n",
       "      <th>0%</th>\n",
       "      <th>5%</th>\n",
       "      <th>50%</th>\n",
       "      <th>95%</th>\n",
       "      <th>99%</th>\n",
       "      <th>max</th>\n",
       "    </tr>\n",
       "  </thead>\n",
       "  <tbody>\n",
       "    <tr>\n",
       "      <th>AtBat</th>\n",
       "      <td>322.00</td>\n",
       "      <td>380.93</td>\n",
       "      <td>153.40</td>\n",
       "      <td>16.00</td>\n",
       "      <td>16.00</td>\n",
       "      <td>161.00</td>\n",
       "      <td>379.50</td>\n",
       "      <td>609.90</td>\n",
       "      <td>658.59</td>\n",
       "      <td>687.00</td>\n",
       "    </tr>\n",
       "    <tr>\n",
       "      <th>Hits</th>\n",
       "      <td>322.00</td>\n",
       "      <td>101.02</td>\n",
       "      <td>46.45</td>\n",
       "      <td>1.00</td>\n",
       "      <td>1.00</td>\n",
       "      <td>39.00</td>\n",
       "      <td>96.00</td>\n",
       "      <td>174.00</td>\n",
       "      <td>210.79</td>\n",
       "      <td>238.00</td>\n",
       "    </tr>\n",
       "    <tr>\n",
       "      <th>HmRun</th>\n",
       "      <td>322.00</td>\n",
       "      <td>10.77</td>\n",
       "      <td>8.71</td>\n",
       "      <td>0.00</td>\n",
       "      <td>0.00</td>\n",
       "      <td>0.00</td>\n",
       "      <td>8.00</td>\n",
       "      <td>28.95</td>\n",
       "      <td>33.00</td>\n",
       "      <td>40.00</td>\n",
       "    </tr>\n",
       "    <tr>\n",
       "      <th>Runs</th>\n",
       "      <td>322.00</td>\n",
       "      <td>50.91</td>\n",
       "      <td>26.02</td>\n",
       "      <td>0.00</td>\n",
       "      <td>0.00</td>\n",
       "      <td>17.00</td>\n",
       "      <td>48.00</td>\n",
       "      <td>94.00</td>\n",
       "      <td>107.79</td>\n",
       "      <td>130.00</td>\n",
       "    </tr>\n",
       "    <tr>\n",
       "      <th>RBI</th>\n",
       "      <td>322.00</td>\n",
       "      <td>48.03</td>\n",
       "      <td>26.17</td>\n",
       "      <td>0.00</td>\n",
       "      <td>0.00</td>\n",
       "      <td>14.00</td>\n",
       "      <td>44.00</td>\n",
       "      <td>96.00</td>\n",
       "      <td>112.37</td>\n",
       "      <td>121.00</td>\n",
       "    </tr>\n",
       "    <tr>\n",
       "      <th>Walks</th>\n",
       "      <td>322.00</td>\n",
       "      <td>38.74</td>\n",
       "      <td>21.64</td>\n",
       "      <td>0.00</td>\n",
       "      <td>0.00</td>\n",
       "      <td>11.05</td>\n",
       "      <td>35.00</td>\n",
       "      <td>78.00</td>\n",
       "      <td>93.58</td>\n",
       "      <td>105.00</td>\n",
       "    </tr>\n",
       "    <tr>\n",
       "      <th>Years</th>\n",
       "      <td>322.00</td>\n",
       "      <td>7.44</td>\n",
       "      <td>4.93</td>\n",
       "      <td>1.00</td>\n",
       "      <td>1.00</td>\n",
       "      <td>1.00</td>\n",
       "      <td>6.00</td>\n",
       "      <td>17.00</td>\n",
       "      <td>19.79</td>\n",
       "      <td>24.00</td>\n",
       "    </tr>\n",
       "    <tr>\n",
       "      <th>CAtBat</th>\n",
       "      <td>322.00</td>\n",
       "      <td>2648.68</td>\n",
       "      <td>2324.21</td>\n",
       "      <td>19.00</td>\n",
       "      <td>19.00</td>\n",
       "      <td>216.50</td>\n",
       "      <td>1928.00</td>\n",
       "      <td>7125.60</td>\n",
       "      <td>8749.97</td>\n",
       "      <td>14053.00</td>\n",
       "    </tr>\n",
       "    <tr>\n",
       "      <th>CHits</th>\n",
       "      <td>322.00</td>\n",
       "      <td>717.57</td>\n",
       "      <td>654.47</td>\n",
       "      <td>4.00</td>\n",
       "      <td>4.00</td>\n",
       "      <td>54.00</td>\n",
       "      <td>508.00</td>\n",
       "      <td>2017.15</td>\n",
       "      <td>2500.34</td>\n",
       "      <td>4256.00</td>\n",
       "    </tr>\n",
       "    <tr>\n",
       "      <th>CHmRun</th>\n",
       "      <td>322.00</td>\n",
       "      <td>69.49</td>\n",
       "      <td>86.27</td>\n",
       "      <td>0.00</td>\n",
       "      <td>0.00</td>\n",
       "      <td>2.00</td>\n",
       "      <td>37.50</td>\n",
       "      <td>265.65</td>\n",
       "      <td>373.12</td>\n",
       "      <td>548.00</td>\n",
       "    </tr>\n",
       "    <tr>\n",
       "      <th>CRuns</th>\n",
       "      <td>322.00</td>\n",
       "      <td>358.80</td>\n",
       "      <td>334.11</td>\n",
       "      <td>1.00</td>\n",
       "      <td>1.00</td>\n",
       "      <td>27.00</td>\n",
       "      <td>247.00</td>\n",
       "      <td>1032.30</td>\n",
       "      <td>1174.37</td>\n",
       "      <td>2165.00</td>\n",
       "    </tr>\n",
       "    <tr>\n",
       "      <th>CRBI</th>\n",
       "      <td>322.00</td>\n",
       "      <td>330.12</td>\n",
       "      <td>333.22</td>\n",
       "      <td>0.00</td>\n",
       "      <td>0.00</td>\n",
       "      <td>22.05</td>\n",
       "      <td>220.50</td>\n",
       "      <td>1071.75</td>\n",
       "      <td>1310.85</td>\n",
       "      <td>1659.00</td>\n",
       "    </tr>\n",
       "    <tr>\n",
       "      <th>CWalks</th>\n",
       "      <td>322.00</td>\n",
       "      <td>260.24</td>\n",
       "      <td>267.06</td>\n",
       "      <td>0.00</td>\n",
       "      <td>0.00</td>\n",
       "      <td>15.05</td>\n",
       "      <td>170.50</td>\n",
       "      <td>817.60</td>\n",
       "      <td>1139.14</td>\n",
       "      <td>1566.00</td>\n",
       "    </tr>\n",
       "    <tr>\n",
       "      <th>PutOuts</th>\n",
       "      <td>322.00</td>\n",
       "      <td>288.94</td>\n",
       "      <td>280.70</td>\n",
       "      <td>0.00</td>\n",
       "      <td>0.00</td>\n",
       "      <td>33.20</td>\n",
       "      <td>212.00</td>\n",
       "      <td>910.65</td>\n",
       "      <td>1301.19</td>\n",
       "      <td>1378.00</td>\n",
       "    </tr>\n",
       "    <tr>\n",
       "      <th>Assists</th>\n",
       "      <td>322.00</td>\n",
       "      <td>106.91</td>\n",
       "      <td>136.85</td>\n",
       "      <td>0.00</td>\n",
       "      <td>0.00</td>\n",
       "      <td>0.00</td>\n",
       "      <td>39.50</td>\n",
       "      <td>431.45</td>\n",
       "      <td>478.16</td>\n",
       "      <td>492.00</td>\n",
       "    </tr>\n",
       "    <tr>\n",
       "      <th>Errors</th>\n",
       "      <td>322.00</td>\n",
       "      <td>8.04</td>\n",
       "      <td>6.37</td>\n",
       "      <td>0.00</td>\n",
       "      <td>0.00</td>\n",
       "      <td>0.00</td>\n",
       "      <td>6.00</td>\n",
       "      <td>20.00</td>\n",
       "      <td>25.79</td>\n",
       "      <td>32.00</td>\n",
       "    </tr>\n",
       "    <tr>\n",
       "      <th>Salary</th>\n",
       "      <td>263.00</td>\n",
       "      <td>535.93</td>\n",
       "      <td>451.12</td>\n",
       "      <td>67.50</td>\n",
       "      <td>67.50</td>\n",
       "      <td>86.60</td>\n",
       "      <td>425.00</td>\n",
       "      <td>1346.00</td>\n",
       "      <td>2032.89</td>\n",
       "      <td>2460.00</td>\n",
       "    </tr>\n",
       "  </tbody>\n",
       "</table>\n",
       "</div>"
      ],
      "text/plain": [
       "         count    mean     std   min    0%     5%     50%     95%     99%      max\n",
       "AtBat   322.00  380.93  153.40 16.00 16.00 161.00  379.50  609.90  658.59   687.00\n",
       "Hits    322.00  101.02   46.45  1.00  1.00  39.00   96.00  174.00  210.79   238.00\n",
       "HmRun   322.00   10.77    8.71  0.00  0.00   0.00    8.00   28.95   33.00    40.00\n",
       "Runs    322.00   50.91   26.02  0.00  0.00  17.00   48.00   94.00  107.79   130.00\n",
       "RBI     322.00   48.03   26.17  0.00  0.00  14.00   44.00   96.00  112.37   121.00\n",
       "Walks   322.00   38.74   21.64  0.00  0.00  11.05   35.00   78.00   93.58   105.00\n",
       "Years   322.00    7.44    4.93  1.00  1.00   1.00    6.00   17.00   19.79    24.00\n",
       "CAtBat  322.00 2648.68 2324.21 19.00 19.00 216.50 1928.00 7125.60 8749.97 14053.00\n",
       "CHits   322.00  717.57  654.47  4.00  4.00  54.00  508.00 2017.15 2500.34  4256.00\n",
       "CHmRun  322.00   69.49   86.27  0.00  0.00   2.00   37.50  265.65  373.12   548.00\n",
       "CRuns   322.00  358.80  334.11  1.00  1.00  27.00  247.00 1032.30 1174.37  2165.00\n",
       "CRBI    322.00  330.12  333.22  0.00  0.00  22.05  220.50 1071.75 1310.85  1659.00\n",
       "CWalks  322.00  260.24  267.06  0.00  0.00  15.05  170.50  817.60 1139.14  1566.00\n",
       "PutOuts 322.00  288.94  280.70  0.00  0.00  33.20  212.00  910.65 1301.19  1378.00\n",
       "Assists 322.00  106.91  136.85  0.00  0.00   0.00   39.50  431.45  478.16   492.00\n",
       "Errors  322.00    8.04    6.37  0.00  0.00   0.00    6.00   20.00   25.79    32.00\n",
       "Salary  263.00  535.93  451.12 67.50 67.50  86.60  425.00 1346.00 2032.89  2460.00"
      ]
     },
     "execution_count": 11,
     "metadata": {},
     "output_type": "execute_result"
    }
   ],
   "source": [
    "df.describe([0, 0.05, 0.50, 0.95, 0.99]).T"
   ]
  },
  {
   "cell_type": "markdown",
   "id": "3e08f277",
   "metadata": {},
   "source": [
    "- #### When we go down with more detailed partitioning some variables like Walks, CHmRun seems all proper.\n",
    "- #### But for CAtBat, CHits variables, suspicious view is still continues.This may be due to outliers. At least we reduced to variable possibilities for outliers but going to check with more detailed way."
   ]
  },
  {
   "cell_type": "markdown",
   "id": "50ae6822",
   "metadata": {},
   "source": [
    "- #### Dataset has so many different variables. \n",
    "- #### Seperating variables categorically or numerically according to their classes."
   ]
  },
  {
   "cell_type": "code",
   "execution_count": 12,
   "id": "f7520a9e",
   "metadata": {},
   "outputs": [],
   "source": [
    "cat_cols = [col for col in df.columns if df[col].dtypes == \"O\"]"
   ]
  },
  {
   "cell_type": "code",
   "execution_count": 13,
   "id": "92ec8c74",
   "metadata": {},
   "outputs": [],
   "source": [
    "num_but_cat = [col for col in df.columns if df[col].nunique() < 10 and \\\n",
    "              df[col].dtypes != \"O\"]"
   ]
  },
  {
   "cell_type": "code",
   "execution_count": 14,
   "id": "8d2df469",
   "metadata": {},
   "outputs": [],
   "source": [
    "cat_but_car = [col for col in df.columns if df[col].nunique() > 20 and \\\n",
    "              df[col].dtypes == \"O\"]"
   ]
  },
  {
   "cell_type": "code",
   "execution_count": 15,
   "id": "359e50b9",
   "metadata": {},
   "outputs": [],
   "source": [
    "cat_cols = cat_cols + num_but_cat"
   ]
  },
  {
   "cell_type": "code",
   "execution_count": 16,
   "id": "62d79143",
   "metadata": {},
   "outputs": [],
   "source": [
    "cat_cols = [col for col in cat_cols if col not in cat_but_car]"
   ]
  },
  {
   "cell_type": "code",
   "execution_count": 17,
   "id": "73c13a19",
   "metadata": {},
   "outputs": [
    {
     "data": {
      "text/plain": [
       "['League', 'Division', 'NewLeague']"
      ]
     },
     "execution_count": 17,
     "metadata": {},
     "output_type": "execute_result"
    }
   ],
   "source": [
    "cat_cols"
   ]
  },
  {
   "cell_type": "code",
   "execution_count": 18,
   "id": "16b3214a",
   "metadata": {},
   "outputs": [],
   "source": [
    "num_cols = [col for col in df.columns if df[col].dtypes != \"O\"]"
   ]
  },
  {
   "cell_type": "code",
   "execution_count": 19,
   "id": "ac83fe7c",
   "metadata": {},
   "outputs": [],
   "source": [
    "num_cols = [col for col in num_cols if col not in num_but_cat]"
   ]
  },
  {
   "cell_type": "code",
   "execution_count": 20,
   "id": "4ce2507e",
   "metadata": {},
   "outputs": [
    {
     "data": {
      "text/plain": [
       "['AtBat',\n",
       " 'Hits',\n",
       " 'HmRun',\n",
       " 'Runs',\n",
       " 'RBI',\n",
       " 'Walks',\n",
       " 'Years',\n",
       " 'CAtBat',\n",
       " 'CHits',\n",
       " 'CHmRun',\n",
       " 'CRuns',\n",
       " 'CRBI',\n",
       " 'CWalks',\n",
       " 'PutOuts',\n",
       " 'Assists',\n",
       " 'Errors',\n",
       " 'Salary']"
      ]
     },
     "execution_count": 20,
     "metadata": {},
     "output_type": "execute_result"
    }
   ],
   "source": [
    "num_cols"
   ]
  },
  {
   "cell_type": "code",
   "execution_count": 21,
   "id": "49fe4ebc",
   "metadata": {},
   "outputs": [
    {
     "data": {
      "text/plain": [
       "[]"
      ]
     },
     "execution_count": 21,
     "metadata": {},
     "output_type": "execute_result"
    }
   ],
   "source": [
    "cat_but_car"
   ]
  },
  {
   "cell_type": "markdown",
   "id": "5d1d4c39",
   "metadata": {},
   "source": [
    "- #### Checking categoric variables ratios, class sizes."
   ]
  },
  {
   "cell_type": "code",
   "execution_count": 22,
   "id": "58236e74",
   "metadata": {},
   "outputs": [
    {
     "name": "stdout",
     "output_type": "stream",
     "text": [
      "        League  Ratio\n",
      "League               \n",
      "A          175  54.35\n",
      "N          147  45.65\n",
      "\n",
      "\n",
      "          Division  Ratio\n",
      "Division                 \n",
      "W              165  51.24\n",
      "E              157  48.76\n",
      "\n",
      "\n",
      "           NewLeague  Ratio\n",
      "NewLeague                  \n",
      "A                176  54.66\n",
      "N                146  45.34\n",
      "\n",
      "\n"
     ]
    }
   ],
   "source": [
    "for col in cat_cols:\n",
    "    print(pd.DataFrame({col: df[col].value_counts(),\n",
    "                       \"Ratio\": 100 * df[col].value_counts() / len(df)}),\n",
    "          end = \"\\n\\n\\n\")"
   ]
  },
  {
   "cell_type": "markdown",
   "id": "1bf5d0f2",
   "metadata": {},
   "source": [
    "- #### There are 3 categorical variables which have balanced classes.\n",
    "- #### Looking at the effects of these variables on the target variable."
   ]
  },
  {
   "cell_type": "code",
   "execution_count": 23,
   "id": "3d698b70",
   "metadata": {},
   "outputs": [
    {
     "name": "stdout",
     "output_type": "stream",
     "text": [
      "        Target Mean\n",
      "League             \n",
      "A            542.00\n",
      "N            529.12\n",
      "\n",
      "\n",
      "          Target Mean\n",
      "Division             \n",
      "E              624.27\n",
      "W              450.88\n",
      "\n",
      "\n",
      "           Target Mean\n",
      "NewLeague             \n",
      "A               537.11\n",
      "N               534.55\n",
      "\n",
      "\n"
     ]
    }
   ],
   "source": [
    "for col in cat_cols:\n",
    "    print(pd.DataFrame({\"Target Mean\": df.groupby(col)[\"Salary\"].mean()}),\n",
    "          end = \"\\n\\n\\n\")"
   ]
  },
  {
   "cell_type": "markdown",
   "id": "0c2355b7",
   "metadata": {},
   "source": [
    "- #### There are not so much difference in playing different leagues but playing in A league make slight difference.\n",
    "- #### Playing in division E created a significant salary difference.\n",
    "- #### Saw thet there are not a significant differences in playing different leagues. Attaching new league effected same."
   ]
  },
  {
   "cell_type": "markdown",
   "id": "5bab4b49",
   "metadata": {},
   "source": [
    "- **Correlation**"
   ]
  },
  {
   "cell_type": "code",
   "execution_count": 24,
   "id": "4a650d2d",
   "metadata": {},
   "outputs": [],
   "source": [
    "corr = df[num_cols].corr()"
   ]
  },
  {
   "cell_type": "code",
   "execution_count": 25,
   "id": "c469a518",
   "metadata": {},
   "outputs": [
    {
     "data": {
      "image/png": "[encoded data removed]",
      "text/plain": [
       "<Figure size 1500x1500 with 2 Axes>"
      ]
     },
     "metadata": {},
     "output_type": "display_data"
    }
   ],
   "source": [
    "plt.figure(figsize = (15, 15))\n",
    "\n",
    "sns.heatmap(corr, cmap = \"RdBu\", annot = True)\n",
    "\n",
    "plt.show()"
   ]
  },
  {
   "cell_type": "markdown",
   "id": "94e0c475",
   "metadata": {},
   "source": [
    "- #### Among the dependent variables, some variables have more than 90% correlation with each other.It means, these variables are expressing same infofrmation. To define these:\n",
    "* Runs, Hits --> more than 90% correlation with AtBat.\n",
    "* CAtBat, CHits --> more than 90% correlation with Years.\n",
    "* CRBI --> more than 90% correlation with CHmRun.\n",
    "- #### There are high amount of variables and some of them are stating the same information so we do not need them. \n",
    "- #### These variables can be dropped."
   ]
  },
  {
   "cell_type": "markdown",
   "id": "fe74c9c5",
   "metadata": {},
   "source": [
    "- #### There were suspicions about outliers.\n",
    "- #### Checking these variables with boxplot."
   ]
  },
  {
   "cell_type": "code",
   "execution_count": 26,
   "id": "e67c129a",
   "metadata": {
    "scrolled": false
   },
   "outputs": [
    {
     "data": {
      "image/png": "[encoded data removed]",
      "text/plain": [
       "<Figure size 1000x600 with 1 Axes>"
      ]
     },
     "metadata": {},
     "output_type": "display_data"
    },
    {
     "data": {
      "image/png": "[encoded data removed]",
      "text/plain": [
       "<Figure size 1000x600 with 1 Axes>"
      ]
     },
     "metadata": {},
     "output_type": "display_data"
    },
    {
     "data": {
      "image/png": "[encoded data removed]",
      "text/plain": [
       "<Figure size 1000x600 with 1 Axes>"
      ]
     },
     "metadata": {},
     "output_type": "display_data"
    },
    {
     "data": {
      "image/png": "[encoded data removed]",
      "text/plain": [
       "<Figure size 1000x600 with 1 Axes>"
      ]
     },
     "metadata": {},
     "output_type": "display_data"
    },
    {
     "data": {
      "image/png": "[encoded data removed]",
      "text/plain": [
       "<Figure size 1000x600 with 1 Axes>"
      ]
     },
     "metadata": {},
     "output_type": "display_data"
    },
    {
     "data": {
      "image/png": "[encoded data removed]",
      "text/plain": [
       "<Figure size 1000x600 with 1 Axes>"
      ]
     },
     "metadata": {},
     "output_type": "display_data"
    },
    {
     "data": {
      "image/png": "[encoded data removed]",
      "text/plain": [
       "<Figure size 1000x600 with 1 Axes>"
      ]
     },
     "metadata": {},
     "output_type": "display_data"
    },
    {
     "data": {
      "image/png": "[encoded data removed]",
      "text/plain": [
       "<Figure size 1000x600 with 1 Axes>"
      ]
     },
     "metadata": {},
     "output_type": "display_data"
    },
    {
     "data": {
      "image/png": "[encoded data removed]",
      "text/plain": [
       "<Figure size 1000x600 with 1 Axes>"
      ]
     },
     "metadata": {},
     "output_type": "display_data"
    },
    {
     "data": {
      "image/png": "[encoded data removed]",
      "text/plain": [
       "<Figure size 1000x600 with 1 Axes>"
      ]
     },
     "metadata": {},
     "output_type": "display_data"
    },
    {
     "data": {
      "image/png": "[encoded data removed]",
      "text/plain": [
       "<Figure size 1000x600 with 1 Axes>"
      ]
     },
     "metadata": {},
     "output_type": "display_data"
    },
    {
     "data": {
      "image/png": "[encoded data removed]",
      "text/plain": [
       "<Figure size 1000x600 with 1 Axes>"
      ]
     },
     "metadata": {},
     "output_type": "display_data"
    },
    {
     "data": {
      "image/png": "[encoded data removed]",
      "text/plain": [
       "<Figure size 1000x600 with 1 Axes>"
      ]
     },
     "metadata": {},
     "output_type": "display_data"
    },
    {
     "data": {
      "image/png": "[encoded data removed]",
      "text/plain": [
       "<Figure size 1000x600 with 1 Axes>"
      ]
     },
     "metadata": {},
     "output_type": "display_data"
    },
    {
     "data": {
      "image/png": "[encoded data removed]",
      "text/plain": [
       "<Figure size 1000x600 with 1 Axes>"
      ]
     },
     "metadata": {},
     "output_type": "display_data"
    },
    {
     "data": {
      "image/png": "[encoded data removed]",
      "text/plain": [
       "<Figure size 1000x600 with 1 Axes>"
      ]
     },
     "metadata": {},
     "output_type": "display_data"
    },
    {
     "data": {
      "image/png": "[encoded data removed]",
      "text/plain": [
       "<Figure size 1000x600 with 1 Axes>"
      ]
     },
     "metadata": {},
     "output_type": "display_data"
    }
   ],
   "source": [
    "for col in num_cols:\n",
    "    plt.figure(figsize = (10,6))\n",
    "    sns.boxplot(x = df[col])\n",
    "    plt.show()\n",
    "    "
   ]
  },
  {
   "cell_type": "markdown",
   "id": "ab9e7016",
   "metadata": {},
   "source": [
    "- #### For variables that are outliers, a trimming will be made from %5 - %95 of data.\n",
    "- #### The reason for this attempt, is not changing distribution of variables too much. \n",
    "- #### Changing distribution can create bias."
   ]
  },
  {
   "cell_type": "code",
   "execution_count": 27,
   "id": "a5b0af90",
   "metadata": {},
   "outputs": [],
   "source": [
    "def outlier_thresholds(dataframe, col_name, q1 = 0.05, q3 = 0.95):\n",
    "    quartile1 = dataframe[col_name].quantile(0.05)\n",
    "    quartile3 = dataframe[col_name].quantile(0.95)\n",
    "    iqr = quartile3 - quartile1\n",
    "    up_limit = quartile3 + 1.5 * iqr\n",
    "    low_limit = quartile1 - 1.5 * iqr\n",
    "    return low_limit, up_limit"
   ]
  },
  {
   "cell_type": "code",
   "execution_count": 28,
   "id": "bdbf4eac",
   "metadata": {},
   "outputs": [],
   "source": [
    "def replace_with_thresholds(dataframe, variable):\n",
    "    low_limit, up_limit = outlier_thresholds(dataframe, variable)\n",
    "    dataframe.loc[(dataframe[variable] < low_limit), variable] = low_limit\n",
    "    dataframe.loc[(dataframe[variable] > up_limit), variable] = up_limit"
   ]
  },
  {
   "cell_type": "code",
   "execution_count": 29,
   "id": "e259dc50",
   "metadata": {},
   "outputs": [],
   "source": [
    "for col in num_cols:\n",
    "    outlier_thresholds(df, col)"
   ]
  },
  {
   "cell_type": "code",
   "execution_count": 30,
   "id": "08842d79",
   "metadata": {},
   "outputs": [],
   "source": [
    "for col in num_cols:\n",
    "    replace_with_thresholds(df, col)"
   ]
  },
  {
   "cell_type": "markdown",
   "id": "ab962859",
   "metadata": {},
   "source": [
    "- #### There were some missing values in target variable. Imputing or modifying these values can change distribution of target variable may create bias in model.\n",
    "- #### In the worst scenario, imputing can be used for dependent variables but changing target variable values is too risky."
   ]
  },
  {
   "cell_type": "code",
   "execution_count": 31,
   "id": "8340b394",
   "metadata": {},
   "outputs": [],
   "source": [
    "df.dropna(inplace = True)"
   ]
  },
  {
   "cell_type": "code",
   "execution_count": 32,
   "id": "d544a01f",
   "metadata": {},
   "outputs": [
    {
     "data": {
      "text/plain": [
       "AtBat        0\n",
       "Hits         0\n",
       "HmRun        0\n",
       "Runs         0\n",
       "RBI          0\n",
       "Walks        0\n",
       "Years        0\n",
       "CAtBat       0\n",
       "CHits        0\n",
       "CHmRun       0\n",
       "CRuns        0\n",
       "CRBI         0\n",
       "CWalks       0\n",
       "League       0\n",
       "Division     0\n",
       "PutOuts      0\n",
       "Assists      0\n",
       "Errors       0\n",
       "Salary       0\n",
       "NewLeague    0\n",
       "dtype: int64"
      ]
     },
     "execution_count": 32,
     "metadata": {},
     "output_type": "execute_result"
    }
   ],
   "source": [
    "df.isnull().sum()"
   ]
  },
  {
   "cell_type": "markdown",
   "id": "3b9b6ce8",
   "metadata": {},
   "source": [
    "### Feature Extracting"
   ]
  },
  {
   "cell_type": "markdown",
   "id": "17fbf50e",
   "metadata": {},
   "source": [
    "- #### Need to make some adjusting before starting the feature extraction."
   ]
  },
  {
   "cell_type": "markdown",
   "id": "4ec35c13",
   "metadata": {},
   "source": [
    "- #### There are 0 values in some dependent variables. \n",
    "- #### Explored that in checking numeric variables with describe method.\n",
    "- #### Multiplying or dividing with 0 values might cause math based problems in the next section. Also we dont want to change distribution of data so adding +1 all of dependent variables should be work."
   ]
  },
  {
   "cell_type": "markdown",
   "id": "f51c20d1",
   "metadata": {},
   "source": [
    "- #### Addition to these cautions, need to drop target variable and \"Years\" dependent variable from that process.\n",
    "- #### Because there are no 0 values in \"Years\" and \"Salary\" variables."
   ]
  },
  {
   "cell_type": "code",
   "execution_count": 33,
   "id": "34c6eaa3",
   "metadata": {},
   "outputs": [],
   "source": [
    "num_cols_ = [col for col in num_cols if col not in [\"Salary\", \"Years\"]]"
   ]
  },
  {
   "cell_type": "code",
   "execution_count": 34,
   "id": "ff9e4f67",
   "metadata": {},
   "outputs": [
    {
     "data": {
      "text/plain": [
       "['AtBat',\n",
       " 'Hits',\n",
       " 'HmRun',\n",
       " 'Runs',\n",
       " 'RBI',\n",
       " 'Walks',\n",
       " 'CAtBat',\n",
       " 'CHits',\n",
       " 'CHmRun',\n",
       " 'CRuns',\n",
       " 'CRBI',\n",
       " 'CWalks',\n",
       " 'PutOuts',\n",
       " 'Assists',\n",
       " 'Errors']"
      ]
     },
     "execution_count": 34,
     "metadata": {},
     "output_type": "execute_result"
    }
   ],
   "source": [
    "num_cols_"
   ]
  },
  {
   "cell_type": "code",
   "execution_count": 35,
   "id": "12763e1b",
   "metadata": {},
   "outputs": [],
   "source": [
    "df[num_cols_] = df[num_cols_] + 1 "
   ]
  },
  {
   "cell_type": "markdown",
   "id": "0fccbc59",
   "metadata": {},
   "source": [
    "- #### Changed to uppercase letter type for ease of handling names."
   ]
  },
  {
   "cell_type": "code",
   "execution_count": 36,
   "id": "10b26ce2",
   "metadata": {},
   "outputs": [],
   "source": [
    "df.columns = [col.upper() for col in df.columns]"
   ]
  },
  {
   "cell_type": "code",
   "execution_count": 37,
   "id": "d018d69c",
   "metadata": {},
   "outputs": [
    {
     "data": {
      "text/plain": [
       "Index(['ATBAT', 'HITS', 'HMRUN', 'RUNS', 'RBI', 'WALKS', 'YEARS', 'CATBAT', 'CHITS', 'CHMRUN', 'CRUNS', 'CRBI', 'CWALKS', 'LEAGUE', 'DIVISION', 'PUTOUTS', 'ASSISTS', 'ERRORS', 'SALARY', 'NEWLEAGUE'], dtype='object')"
      ]
     },
     "execution_count": 37,
     "metadata": {},
     "output_type": "execute_result"
    }
   ],
   "source": [
    "df.columns"
   ]
  },
  {
   "cell_type": "markdown",
   "id": "e364c25e",
   "metadata": {},
   "source": [
    "- #### There are both current season variables and whole career metrics in variables. \n",
    "- #### Extracting a ratio for in specific season compare to whole career can contain information."
   ]
  },
  {
   "cell_type": "code",
   "execution_count": 38,
   "id": "13bb1247",
   "metadata": {},
   "outputs": [],
   "source": [
    "df[\"NEW_C_RUNS_RATIO\"] = df[\"RUNS\"] / df[\"CRUNS\"]"
   ]
  },
  {
   "cell_type": "code",
   "execution_count": 39,
   "id": "05308851",
   "metadata": {},
   "outputs": [],
   "source": [
    "df[\"NEW_C_ATBAT_RATIO\"] = df[\"ATBAT\"] / df[\"CATBAT\"]"
   ]
  },
  {
   "cell_type": "code",
   "execution_count": 40,
   "id": "1c039f0d",
   "metadata": {},
   "outputs": [],
   "source": [
    "df[\"NEW_C_HITS_RATIO\"] = df[\"HITS\"] / df[\"CHITS\"]"
   ]
  },
  {
   "cell_type": "code",
   "execution_count": 41,
   "id": "b7099bf0",
   "metadata": {},
   "outputs": [],
   "source": [
    "df[\"NEW_C_HMRUN_RATIO\"] = df[\"HMRUN\"] / df[\"CHMRUN\"]"
   ]
  },
  {
   "cell_type": "code",
   "execution_count": 42,
   "id": "53c23e82",
   "metadata": {},
   "outputs": [],
   "source": [
    "df[\"NEW_C_RBI_RATIO\"] = df[\"RBI\"] / df[\"CRBI\"]"
   ]
  },
  {
   "cell_type": "code",
   "execution_count": 43,
   "id": "5355659f",
   "metadata": {},
   "outputs": [],
   "source": [
    "df[\"NEW_C_WALKS_RATIO\"] = df[\"WALKS\"] / df[\"CWALKS\"]"
   ]
  },
  {
   "cell_type": "code",
   "execution_count": 44,
   "id": "ca5e492f",
   "metadata": {},
   "outputs": [],
   "source": [
    "df[\"NEW_C_HIT_RATE\"] = df[\"CHITS\"] / df[\"CATBAT\"]"
   ]
  },
  {
   "cell_type": "code",
   "execution_count": 45,
   "id": "75b1c24d",
   "metadata": {},
   "outputs": [],
   "source": [
    "df[\"NEW_C_RUNNER\"] = df[\"CRBI\"] / df[\"CHITS\"]"
   ]
  },
  {
   "cell_type": "code",
   "execution_count": 46,
   "id": "9790fd93",
   "metadata": {},
   "outputs": [],
   "source": [
    "df[\"NEW_C_HIT-AND-RUN\"] = df[\"CRUNS\"] / df[\"CHITS\"]"
   ]
  },
  {
   "cell_type": "code",
   "execution_count": 47,
   "id": "3170e892",
   "metadata": {},
   "outputs": [],
   "source": [
    "df[\"NEW_C_HMHITS_RATIO\"] = df[\"CHMRUN\"] / df[\"CHITS\"]"
   ]
  },
  {
   "cell_type": "code",
   "execution_count": 48,
   "id": "0e68a7db",
   "metadata": {},
   "outputs": [],
   "source": [
    "df[\"NEW_C_HMATBAT_RATIO\"] = df[\"CATBAT\"] / df[\"CHMRUN\"]"
   ]
  },
  {
   "cell_type": "markdown",
   "id": "4662b611",
   "metadata": {},
   "source": [
    "- #### In addition, dividing whole career numeric metrics with years can show yearly metrics so it may be contain information."
   ]
  },
  {
   "cell_type": "code",
   "execution_count": 49,
   "id": "f5f0e11e",
   "metadata": {},
   "outputs": [],
   "source": [
    "df[\"NEW_CATBAT_MEAN\"] = df[\"CATBAT\"] / df[\"YEARS\"]"
   ]
  },
  {
   "cell_type": "code",
   "execution_count": 50,
   "id": "d669be94",
   "metadata": {},
   "outputs": [],
   "source": [
    "df[\"NEW_CHITS_MEAN\"] = df[\"CHITS\"] / df[\"YEARS\"]"
   ]
  },
  {
   "cell_type": "code",
   "execution_count": 51,
   "id": "7a067437",
   "metadata": {},
   "outputs": [],
   "source": [
    "df[\"NEW_CHMRUN_MEAN\"] = df[\"CHMRUN\"] / df[\"YEARS\"]"
   ]
  },
  {
   "cell_type": "code",
   "execution_count": 52,
   "id": "51cebaec",
   "metadata": {},
   "outputs": [],
   "source": [
    "df[\"NEW_CRUNS_MEAN\"] = df[\"CRUNS\"] / df[\"YEARS\"]"
   ]
  },
  {
   "cell_type": "code",
   "execution_count": 53,
   "id": "96290004",
   "metadata": {},
   "outputs": [],
   "source": [
    "df[\"NEW_CRBI_MEAN\"] = df[\"CRBI\"] / df[\"YEARS\"]"
   ]
  },
  {
   "cell_type": "code",
   "execution_count": 54,
   "id": "27b5ed4a",
   "metadata": {},
   "outputs": [],
   "source": [
    "df[\"NEW_CWALKS_MEAN\"] = df[\"CWALKS\"] / df[\"YEARS\"]"
   ]
  },
  {
   "cell_type": "markdown",
   "id": "64b21029",
   "metadata": {},
   "source": [
    "- #### Years can be correlated with experinece so dividing years into categorical classes should be work too."
   ]
  },
  {
   "cell_type": "code",
   "execution_count": 55,
   "id": "8dfdd093",
   "metadata": {},
   "outputs": [],
   "source": [
    "df.loc[(df[\"YEARS\"] <= 2), \"NEW_YEARS_LEVEL\"] = \"Junior\""
   ]
  },
  {
   "cell_type": "code",
   "execution_count": 56,
   "id": "3a237291",
   "metadata": {},
   "outputs": [],
   "source": [
    "df.loc[(df[\"YEARS\"] > 2) & (df['YEARS'] <= 5), \"NEW_YEARS_LEVEL\"] = \"Mid\""
   ]
  },
  {
   "cell_type": "code",
   "execution_count": 57,
   "id": "6098bd63",
   "metadata": {},
   "outputs": [],
   "source": [
    "df.loc[(df[\"YEARS\"] > 5) & (df['YEARS'] <= 10), \"NEW_YEARS_LEVEL\"] = \"Senior\""
   ]
  },
  {
   "cell_type": "code",
   "execution_count": 58,
   "id": "32f72b18",
   "metadata": {},
   "outputs": [],
   "source": [
    "df.loc[(df[\"YEARS\"] > 10), \"NEW_YEARS_LEVEL\"] = \"Expert\""
   ]
  },
  {
   "cell_type": "markdown",
   "id": "729000d4",
   "metadata": {},
   "source": [
    "- #### Combining playing position and categorical experince level variables can contain more sensetive information for success. It can be effect target variable."
   ]
  },
  {
   "cell_type": "markdown",
   "id": "11c7da5e",
   "metadata": {},
   "source": [
    "- Expecting 4 x 2 = 8 classes in the variable."
   ]
  },
  {
   "cell_type": "code",
   "execution_count": 59,
   "id": "bd8d7e6a",
   "metadata": {},
   "outputs": [],
   "source": [
    "df.loc[(df[\"NEW_YEARS_LEVEL\"] == \"Junior\") & (df[\"DIVISION\"] == \"E\"), 'NEW_DIV_CAT'] = \"Junior-East\""
   ]
  },
  {
   "cell_type": "code",
   "execution_count": 60,
   "id": "8cea1dea",
   "metadata": {},
   "outputs": [],
   "source": [
    "df.loc[(df[\"NEW_YEARS_LEVEL\"] == \"Junior\") & (df[\"DIVISION\"] == \"W\"), 'NEW_DIV_CAT'] = \"Junior-West\""
   ]
  },
  {
   "cell_type": "code",
   "execution_count": 61,
   "id": "117da148",
   "metadata": {},
   "outputs": [],
   "source": [
    "df.loc[(df[\"NEW_YEARS_LEVEL\"] == \"Mid\") & (df[\"DIVISION\"] == \"E\"), 'NEW_DIV_CAT'] = \"Mid-East\""
   ]
  },
  {
   "cell_type": "code",
   "execution_count": 62,
   "id": "902fdfdc",
   "metadata": {},
   "outputs": [],
   "source": [
    "df.loc[(df[\"NEW_YEARS_LEVEL\"] == \"Mid\") & (df[\"DIVISION\"] == \"W\"), 'NEW_DIV_CAT'] = \"Mid-West\""
   ]
  },
  {
   "cell_type": "code",
   "execution_count": 63,
   "id": "d59a4a70",
   "metadata": {},
   "outputs": [],
   "source": [
    "df.loc[(df[\"NEW_YEARS_LEVEL\"] == \"Senior\") & (df[\"DIVISION\"] == \"E\"), 'NEW_DIV_CAT'] = \"Senior-East\""
   ]
  },
  {
   "cell_type": "code",
   "execution_count": 64,
   "id": "5e5368dd",
   "metadata": {},
   "outputs": [],
   "source": [
    "df.loc[(df[\"NEW_YEARS_LEVEL\"] == \"Senior\") & (df[\"DIVISION\"] == \"W\"), 'NEW_DIV_CAT'] = \"Senior-West\""
   ]
  },
  {
   "cell_type": "code",
   "execution_count": 65,
   "id": "f0a129ca",
   "metadata": {},
   "outputs": [],
   "source": [
    "df.loc[(df[\"NEW_YEARS_LEVEL\"] == \"Expert\") & (df[\"DIVISION\"] == \"E\"), 'NEW_DIV_CAT'] = \"Expert-East\""
   ]
  },
  {
   "cell_type": "code",
   "execution_count": 66,
   "id": "2ea257ef",
   "metadata": {},
   "outputs": [],
   "source": [
    "df.loc[(df[\"NEW_YEARS_LEVEL\"] == \"Expert\") & (df[\"DIVISION\"] == \"W\"), 'NEW_DIV_CAT'] = \"Expert-West\""
   ]
  },
  {
   "cell_type": "markdown",
   "id": "048e4a7b",
   "metadata": {},
   "source": [
    "- #### There are 2 variables defining that new league and last league so creating a progress variables may be contain information."
   ]
  },
  {
   "cell_type": "code",
   "execution_count": 67,
   "id": "687a42d0",
   "metadata": {},
   "outputs": [],
   "source": [
    "df.loc[(df[\"LEAGUE\"] == \"N\") & (df[\"NEWLEAGUE\"] == \"N\"), \"NEW_PLAYER_PROGRESS\"] = \"StandN\""
   ]
  },
  {
   "cell_type": "code",
   "execution_count": 68,
   "id": "323687ae",
   "metadata": {},
   "outputs": [],
   "source": [
    "df.loc[(df[\"LEAGUE\"] == \"A\") & (df[\"NEWLEAGUE\"] == \"A\"), \"NEW_PLAYER_PROGRESS\"] = \"StandA\""
   ]
  },
  {
   "cell_type": "code",
   "execution_count": 69,
   "id": "9f9f5478",
   "metadata": {},
   "outputs": [],
   "source": [
    "df.loc[(df[\"LEAGUE\"] == \"N\") & (df[\"NEWLEAGUE\"] == \"A\"), \"NEW_PLAYER_PROGRESS\"] = \"Descend\""
   ]
  },
  {
   "cell_type": "code",
   "execution_count": 70,
   "id": "f8da8a14",
   "metadata": {},
   "outputs": [],
   "source": [
    "df.loc[(df[\"LEAGUE\"] == \"A\") & (df[\"NEWLEAGUE\"] == \"N\"), \"NEW_PLAYER_PROGRESS\"] = \"Ascend\""
   ]
  },
  {
   "cell_type": "markdown",
   "id": "3599cd2e",
   "metadata": {},
   "source": [
    "- #### Let's check if there is a relationship between the new variables and the target variable. "
   ]
  },
  {
   "cell_type": "code",
   "execution_count": 71,
   "id": "de1555d1",
   "metadata": {},
   "outputs": [
    {
     "data": {
      "text/html": [
       "<div>\n",
       "<style scoped>\n",
       "    .dataframe tbody tr th:only-of-type {\n",
       "        vertical-align: middle;\n",
       "    }\n",
       "\n",
       "    .dataframe tbody tr th {\n",
       "        vertical-align: top;\n",
       "    }\n",
       "\n",
       "    .dataframe thead th {\n",
       "        text-align: right;\n",
       "    }\n",
       "</style>\n",
       "<table border=\"1\" class=\"dataframe\">\n",
       "  <thead>\n",
       "    <tr style=\"text-align: right;\">\n",
       "      <th></th>\n",
       "      <th>ATBAT</th>\n",
       "      <th>HITS</th>\n",
       "      <th>HMRUN</th>\n",
       "      <th>RUNS</th>\n",
       "      <th>RBI</th>\n",
       "      <th>WALKS</th>\n",
       "      <th>YEARS</th>\n",
       "      <th>CATBAT</th>\n",
       "      <th>CHITS</th>\n",
       "      <th>CHMRUN</th>\n",
       "      <th>CRUNS</th>\n",
       "      <th>CRBI</th>\n",
       "      <th>CWALKS</th>\n",
       "      <th>LEAGUE</th>\n",
       "      <th>DIVISION</th>\n",
       "      <th>PUTOUTS</th>\n",
       "      <th>ASSISTS</th>\n",
       "      <th>ERRORS</th>\n",
       "      <th>SALARY</th>\n",
       "      <th>NEWLEAGUE</th>\n",
       "      <th>NEW_C_RUNS_RATIO</th>\n",
       "      <th>NEW_C_ATBAT_RATIO</th>\n",
       "      <th>NEW_C_HITS_RATIO</th>\n",
       "      <th>NEW_C_HMRUN_RATIO</th>\n",
       "      <th>NEW_C_RBI_RATIO</th>\n",
       "      <th>NEW_C_WALKS_RATIO</th>\n",
       "      <th>NEW_C_HIT_RATE</th>\n",
       "      <th>NEW_C_RUNNER</th>\n",
       "      <th>NEW_C_HIT-AND-RUN</th>\n",
       "      <th>NEW_C_HMHITS_RATIO</th>\n",
       "      <th>NEW_C_HMATBAT_RATIO</th>\n",
       "      <th>NEW_CATBAT_MEAN</th>\n",
       "      <th>NEW_CHITS_MEAN</th>\n",
       "      <th>NEW_CHMRUN_MEAN</th>\n",
       "      <th>NEW_CRUNS_MEAN</th>\n",
       "      <th>NEW_CRBI_MEAN</th>\n",
       "      <th>NEW_CWALKS_MEAN</th>\n",
       "      <th>NEW_YEARS_LEVEL</th>\n",
       "      <th>NEW_DIV_CAT</th>\n",
       "      <th>NEW_PLAYER_PROGRESS</th>\n",
       "    </tr>\n",
       "  </thead>\n",
       "  <tbody>\n",
       "    <tr>\n",
       "      <th>1</th>\n",
       "      <td>316.00</td>\n",
       "      <td>82.00</td>\n",
       "      <td>8.00</td>\n",
       "      <td>25.00</td>\n",
       "      <td>39</td>\n",
       "      <td>40.00</td>\n",
       "      <td>14</td>\n",
       "      <td>3450.00</td>\n",
       "      <td>836.00</td>\n",
       "      <td>70.00</td>\n",
       "      <td>322.00</td>\n",
       "      <td>415.00</td>\n",
       "      <td>376.00</td>\n",
       "      <td>N</td>\n",
       "      <td>W</td>\n",
       "      <td>633.00</td>\n",
       "      <td>44.00</td>\n",
       "      <td>11</td>\n",
       "      <td>475.00</td>\n",
       "      <td>N</td>\n",
       "      <td>0.08</td>\n",
       "      <td>0.09</td>\n",
       "      <td>0.10</td>\n",
       "      <td>0.11</td>\n",
       "      <td>0.09</td>\n",
       "      <td>0.11</td>\n",
       "      <td>0.24</td>\n",
       "      <td>0.50</td>\n",
       "      <td>0.39</td>\n",
       "      <td>0.08</td>\n",
       "      <td>49.29</td>\n",
       "      <td>246.43</td>\n",
       "      <td>59.71</td>\n",
       "      <td>5.00</td>\n",
       "      <td>23.00</td>\n",
       "      <td>29.64</td>\n",
       "      <td>26.86</td>\n",
       "      <td>Expert</td>\n",
       "      <td>Expert-West</td>\n",
       "      <td>StandN</td>\n",
       "    </tr>\n",
       "    <tr>\n",
       "      <th>2</th>\n",
       "      <td>480.00</td>\n",
       "      <td>131.00</td>\n",
       "      <td>19.00</td>\n",
       "      <td>67.00</td>\n",
       "      <td>73</td>\n",
       "      <td>77.00</td>\n",
       "      <td>3</td>\n",
       "      <td>1625.00</td>\n",
       "      <td>458.00</td>\n",
       "      <td>64.00</td>\n",
       "      <td>225.00</td>\n",
       "      <td>267.00</td>\n",
       "      <td>264.00</td>\n",
       "      <td>A</td>\n",
       "      <td>W</td>\n",
       "      <td>881.00</td>\n",
       "      <td>83.00</td>\n",
       "      <td>15</td>\n",
       "      <td>480.00</td>\n",
       "      <td>A</td>\n",
       "      <td>0.30</td>\n",
       "      <td>0.30</td>\n",
       "      <td>0.29</td>\n",
       "      <td>0.30</td>\n",
       "      <td>0.27</td>\n",
       "      <td>0.29</td>\n",
       "      <td>0.28</td>\n",
       "      <td>0.58</td>\n",
       "      <td>0.49</td>\n",
       "      <td>0.14</td>\n",
       "      <td>25.39</td>\n",
       "      <td>541.67</td>\n",
       "      <td>152.67</td>\n",
       "      <td>21.33</td>\n",
       "      <td>75.00</td>\n",
       "      <td>89.00</td>\n",
       "      <td>88.00</td>\n",
       "      <td>Mid</td>\n",
       "      <td>Mid-West</td>\n",
       "      <td>StandA</td>\n",
       "    </tr>\n",
       "    <tr>\n",
       "      <th>3</th>\n",
       "      <td>497.00</td>\n",
       "      <td>142.00</td>\n",
       "      <td>21.00</td>\n",
       "      <td>66.00</td>\n",
       "      <td>79</td>\n",
       "      <td>38.00</td>\n",
       "      <td>11</td>\n",
       "      <td>5629.00</td>\n",
       "      <td>1576.00</td>\n",
       "      <td>226.00</td>\n",
       "      <td>829.00</td>\n",
       "      <td>839.00</td>\n",
       "      <td>355.00</td>\n",
       "      <td>N</td>\n",
       "      <td>E</td>\n",
       "      <td>201.00</td>\n",
       "      <td>12.00</td>\n",
       "      <td>4</td>\n",
       "      <td>500.00</td>\n",
       "      <td>N</td>\n",
       "      <td>0.08</td>\n",
       "      <td>0.09</td>\n",
       "      <td>0.09</td>\n",
       "      <td>0.09</td>\n",
       "      <td>0.09</td>\n",
       "      <td>0.11</td>\n",
       "      <td>0.28</td>\n",
       "      <td>0.53</td>\n",
       "      <td>0.53</td>\n",
       "      <td>0.14</td>\n",
       "      <td>24.91</td>\n",
       "      <td>511.73</td>\n",
       "      <td>143.27</td>\n",
       "      <td>20.55</td>\n",
       "      <td>75.36</td>\n",
       "      <td>76.27</td>\n",
       "      <td>32.27</td>\n",
       "      <td>Expert</td>\n",
       "      <td>Expert-East</td>\n",
       "      <td>StandN</td>\n",
       "    </tr>\n",
       "    <tr>\n",
       "      <th>4</th>\n",
       "      <td>322.00</td>\n",
       "      <td>88.00</td>\n",
       "      <td>11.00</td>\n",
       "      <td>40.00</td>\n",
       "      <td>43</td>\n",
       "      <td>31.00</td>\n",
       "      <td>2</td>\n",
       "      <td>397.00</td>\n",
       "      <td>102.00</td>\n",
       "      <td>13.00</td>\n",
       "      <td>49.00</td>\n",
       "      <td>47.00</td>\n",
       "      <td>34.00</td>\n",
       "      <td>N</td>\n",
       "      <td>E</td>\n",
       "      <td>806.00</td>\n",
       "      <td>41.00</td>\n",
       "      <td>5</td>\n",
       "      <td>91.50</td>\n",
       "      <td>N</td>\n",
       "      <td>0.82</td>\n",
       "      <td>0.81</td>\n",
       "      <td>0.86</td>\n",
       "      <td>0.85</td>\n",
       "      <td>0.91</td>\n",
       "      <td>0.91</td>\n",
       "      <td>0.26</td>\n",
       "      <td>0.46</td>\n",
       "      <td>0.48</td>\n",
       "      <td>0.13</td>\n",
       "      <td>30.54</td>\n",
       "      <td>198.50</td>\n",
       "      <td>51.00</td>\n",
       "      <td>6.50</td>\n",
       "      <td>24.50</td>\n",
       "      <td>23.50</td>\n",
       "      <td>17.00</td>\n",
       "      <td>Junior</td>\n",
       "      <td>Junior-East</td>\n",
       "      <td>StandN</td>\n",
       "    </tr>\n",
       "    <tr>\n",
       "      <th>5</th>\n",
       "      <td>595.00</td>\n",
       "      <td>170.00</td>\n",
       "      <td>5.00</td>\n",
       "      <td>75.00</td>\n",
       "      <td>52</td>\n",
       "      <td>36.00</td>\n",
       "      <td>11</td>\n",
       "      <td>4409.00</td>\n",
       "      <td>1134.00</td>\n",
       "      <td>20.00</td>\n",
       "      <td>502.00</td>\n",
       "      <td>337.00</td>\n",
       "      <td>195.00</td>\n",
       "      <td>A</td>\n",
       "      <td>W</td>\n",
       "      <td>283.00</td>\n",
       "      <td>422.00</td>\n",
       "      <td>26</td>\n",
       "      <td>750.00</td>\n",
       "      <td>A</td>\n",
       "      <td>0.15</td>\n",
       "      <td>0.13</td>\n",
       "      <td>0.15</td>\n",
       "      <td>0.25</td>\n",
       "      <td>0.15</td>\n",
       "      <td>0.18</td>\n",
       "      <td>0.26</td>\n",
       "      <td>0.30</td>\n",
       "      <td>0.44</td>\n",
       "      <td>0.02</td>\n",
       "      <td>220.45</td>\n",
       "      <td>400.82</td>\n",
       "      <td>103.09</td>\n",
       "      <td>1.82</td>\n",
       "      <td>45.64</td>\n",
       "      <td>30.64</td>\n",
       "      <td>17.73</td>\n",
       "      <td>Expert</td>\n",
       "      <td>Expert-West</td>\n",
       "      <td>StandA</td>\n",
       "    </tr>\n",
       "  </tbody>\n",
       "</table>\n",
       "</div>"
      ],
      "text/plain": [
       "   ATBAT   HITS  HMRUN  RUNS  RBI  WALKS  YEARS  CATBAT   CHITS  CHMRUN  CRUNS   CRBI  CWALKS LEAGUE DIVISION  PUTOUTS  ASSISTS  ERRORS  SALARY NEWLEAGUE  NEW_C_RUNS_RATIO  NEW_C_ATBAT_RATIO  NEW_C_HITS_RATIO  NEW_C_HMRUN_RATIO  NEW_C_RBI_RATIO  NEW_C_WALKS_RATIO  NEW_C_HIT_RATE  NEW_C_RUNNER  NEW_C_HIT-AND-RUN  NEW_C_HMHITS_RATIO  NEW_C_HMATBAT_RATIO  NEW_CATBAT_MEAN  NEW_CHITS_MEAN  NEW_CHMRUN_MEAN  NEW_CRUNS_MEAN  NEW_CRBI_MEAN  NEW_CWALKS_MEAN NEW_YEARS_LEVEL  NEW_DIV_CAT   \n",
       "1 316.00  82.00   8.00 25.00   39  40.00     14 3450.00  836.00   70.00 322.00 415.00  376.00      N        W   633.00    44.00      11  475.00         N              0.08               0.09              0.10               0.11             0.09               0.11            0.24          0.50               0.39                0.08                49.29           246.43           59.71             5.00           23.00          29.64            26.86          Expert  Expert-West  \\\n",
       "2 480.00 131.00  19.00 67.00   73  77.00      3 1625.00  458.00   64.00 225.00 267.00  264.00      A        W   881.00    83.00      15  480.00         A              0.30               0.30              0.29               0.30             0.27               0.29            0.28          0.58               0.49                0.14                25.39           541.67          152.67            21.33           75.00          89.00            88.00             Mid     Mid-West   \n",
       "3 497.00 142.00  21.00 66.00   79  38.00     11 5629.00 1576.00  226.00 829.00 839.00  355.00      N        E   201.00    12.00       4  500.00         N              0.08               0.09              0.09               0.09             0.09               0.11            0.28          0.53               0.53                0.14                24.91           511.73          143.27            20.55           75.36          76.27            32.27          Expert  Expert-East   \n",
       "4 322.00  88.00  11.00 40.00   43  31.00      2  397.00  102.00   13.00  49.00  47.00   34.00      N        E   806.00    41.00       5   91.50         N              0.82               0.81              0.86               0.85             0.91               0.91            0.26          0.46               0.48                0.13                30.54           198.50           51.00             6.50           24.50          23.50            17.00          Junior  Junior-East   \n",
       "5 595.00 170.00   5.00 75.00   52  36.00     11 4409.00 1134.00   20.00 502.00 337.00  195.00      A        W   283.00   422.00      26  750.00         A              0.15               0.13              0.15               0.25             0.15               0.18            0.26          0.30               0.44                0.02               220.45           400.82          103.09             1.82           45.64          30.64            17.73          Expert  Expert-West   \n",
       "\n",
       "  NEW_PLAYER_PROGRESS  \n",
       "1              StandN  \n",
       "2              StandA  \n",
       "3              StandN  \n",
       "4              StandN  \n",
       "5              StandA  "
      ]
     },
     "execution_count": 71,
     "metadata": {},
     "output_type": "execute_result"
    }
   ],
   "source": [
    "df.head()"
   ]
  },
  {
   "cell_type": "code",
   "execution_count": 72,
   "id": "0de8976e",
   "metadata": {},
   "outputs": [
    {
     "data": {
      "text/plain": [
       "NEW_PLAYER_PROGRESS\n",
       "Ascend    558.12\n",
       "Descend   486.00\n",
       "StandA    541.01\n",
       "StandN    532.90\n",
       "Name: SALARY, dtype: float64"
      ]
     },
     "execution_count": 72,
     "metadata": {},
     "output_type": "execute_result"
    }
   ],
   "source": [
    "df.groupby(\"NEW_PLAYER_PROGRESS\")[\"SALARY\"].mean()"
   ]
  },
  {
   "cell_type": "markdown",
   "id": "98a5ff2a",
   "metadata": {},
   "source": [
    "- #### Classes of progress variable have almost same information.\n",
    "- #### There are some differences but its not sharp."
   ]
  },
  {
   "cell_type": "code",
   "execution_count": 73,
   "id": "bb9abce8",
   "metadata": {},
   "outputs": [
    {
     "data": {
      "text/plain": [
       "NEW_DIV_CAT\n",
       "Expert-East   809.78\n",
       "Expert-West   702.10\n",
       "Junior-East   229.30\n",
       "Junior-West   156.09\n",
       "Mid-East      427.91\n",
       "Mid-West      297.46\n",
       "Senior-East   798.11\n",
       "Senior-West   568.90\n",
       "Name: SALARY, dtype: float64"
      ]
     },
     "execution_count": 73,
     "metadata": {},
     "output_type": "execute_result"
    }
   ],
   "source": [
    "df.groupby(\"NEW_DIV_CAT\")[\"SALARY\"].mean()"
   ]
  },
  {
   "cell_type": "markdown",
   "id": "c87d2386",
   "metadata": {},
   "source": [
    "- #### Level wise year variable carries distinctive information about the both experience of players and the region they play in.\n",
    "- #### The impact rate may be high."
   ]
  },
  {
   "cell_type": "code",
   "execution_count": 74,
   "id": "18f3f8a1",
   "metadata": {},
   "outputs": [
    {
     "data": {
      "text/plain": [
       "NEW_YEARS_LEVEL\n",
       "Expert   755.11\n",
       "Junior   186.92\n",
       "Mid      359.34\n",
       "Senior   691.89\n",
       "Name: SALARY, dtype: float64"
      ]
     },
     "execution_count": 74,
     "metadata": {},
     "output_type": "execute_result"
    }
   ],
   "source": [
    "df.groupby(\"NEW_YEARS_LEVEL\")[\"SALARY\"].mean()"
   ]
  },
  {
   "cell_type": "markdown",
   "id": "0bb6fe09",
   "metadata": {},
   "source": [
    "- #### Salaries are increasing with experince years. Variable seems like consistent.\n",
    "- #### Its a informative variable so impact of this variable might be high."
   ]
  },
  {
   "cell_type": "code",
   "execution_count": 75,
   "id": "8e35c21e",
   "metadata": {},
   "outputs": [
    {
     "data": {
      "image/png": "[encoded data removed]",
      "text/plain": [
       "<Figure size 500x500 with 1 Axes>"
      ]
     },
     "metadata": {},
     "output_type": "display_data"
    }
   ],
   "source": [
    "sns.lmplot(x = 'NEW_C_RUNS_RATIO', y = 'SALARY', data=df)\n",
    "\n",
    "plt.show();"
   ]
  },
  {
   "cell_type": "code",
   "execution_count": 76,
   "id": "5d5da7d7",
   "metadata": {},
   "outputs": [
    {
     "data": {
      "image/png": "[encoded data removed]",
      "text/plain": [
       "<Figure size 500x500 with 1 Axes>"
      ]
     },
     "metadata": {},
     "output_type": "display_data"
    }
   ],
   "source": [
    "sns.lmplot(x = 'NEW_CRUNS_MEAN', y = 'SALARY', data=df)\n",
    "\n",
    "plt.show();"
   ]
  },
  {
   "cell_type": "markdown",
   "id": "f4f27c03",
   "metadata": {},
   "source": [
    "- #### The correlation in the variable we created for CRUNS, one of the numerical variables, may be the current state of carrying information."
   ]
  },
  {
   "cell_type": "markdown",
   "id": "d67f5570",
   "metadata": {},
   "source": [
    "- Let's separate our variables again according to their structures. Categorically or Numerically."
   ]
  },
  {
   "cell_type": "code",
   "execution_count": 77,
   "id": "cd4a1476",
   "metadata": {},
   "outputs": [],
   "source": [
    "cat_cols = [col for col in df.columns if df[col].dtypes == \"O\"]"
   ]
  },
  {
   "cell_type": "code",
   "execution_count": 78,
   "id": "35aa61ad",
   "metadata": {},
   "outputs": [],
   "source": [
    "num_but_cat = [col for col in df.columns if df[col].nunique() < 10 and \\\n",
    "              df[col].dtypes != \"O\"]"
   ]
  },
  {
   "cell_type": "code",
   "execution_count": 79,
   "id": "2a84e1ab",
   "metadata": {},
   "outputs": [],
   "source": [
    "cat_but_car = [col for col in df.columns if df[col].nunique() > 20 and \\\n",
    "              df[col].dtypes == \"O\"]"
   ]
  },
  {
   "cell_type": "code",
   "execution_count": 80,
   "id": "e84001ea",
   "metadata": {},
   "outputs": [],
   "source": [
    "cat_cols = cat_cols + num_but_cat\n",
    "cat_cols = [col for col in cat_cols if col not in cat_but_car]"
   ]
  },
  {
   "cell_type": "code",
   "execution_count": 81,
   "id": "7b2804f7",
   "metadata": {},
   "outputs": [
    {
     "data": {
      "text/plain": [
       "['LEAGUE',\n",
       " 'DIVISION',\n",
       " 'NEWLEAGUE',\n",
       " 'NEW_YEARS_LEVEL',\n",
       " 'NEW_DIV_CAT',\n",
       " 'NEW_PLAYER_PROGRESS']"
      ]
     },
     "execution_count": 81,
     "metadata": {},
     "output_type": "execute_result"
    }
   ],
   "source": [
    "cat_cols"
   ]
  },
  {
   "cell_type": "code",
   "execution_count": 82,
   "id": "402792fc",
   "metadata": {},
   "outputs": [],
   "source": [
    "num_cols = [col for col in df.columns if df[col].dtypes != \"O\"]\n",
    "num_cols = [col for col in num_cols if col not in num_but_cat]"
   ]
  },
  {
   "cell_type": "code",
   "execution_count": 83,
   "id": "174c853c",
   "metadata": {},
   "outputs": [
    {
     "data": {
      "text/plain": [
       "['ATBAT',\n",
       " 'HITS',\n",
       " 'HMRUN',\n",
       " 'RUNS',\n",
       " 'RBI',\n",
       " 'WALKS',\n",
       " 'YEARS',\n",
       " 'CATBAT',\n",
       " 'CHITS',\n",
       " 'CHMRUN',\n",
       " 'CRUNS',\n",
       " 'CRBI',\n",
       " 'CWALKS',\n",
       " 'PUTOUTS',\n",
       " 'ASSISTS',\n",
       " 'ERRORS',\n",
       " 'SALARY',\n",
       " 'NEW_C_RUNS_RATIO',\n",
       " 'NEW_C_ATBAT_RATIO',\n",
       " 'NEW_C_HITS_RATIO',\n",
       " 'NEW_C_HMRUN_RATIO',\n",
       " 'NEW_C_RBI_RATIO',\n",
       " 'NEW_C_WALKS_RATIO',\n",
       " 'NEW_C_HIT_RATE',\n",
       " 'NEW_C_RUNNER',\n",
       " 'NEW_C_HIT-AND-RUN',\n",
       " 'NEW_C_HMHITS_RATIO',\n",
       " 'NEW_C_HMATBAT_RATIO',\n",
       " 'NEW_CATBAT_MEAN',\n",
       " 'NEW_CHITS_MEAN',\n",
       " 'NEW_CHMRUN_MEAN',\n",
       " 'NEW_CRUNS_MEAN',\n",
       " 'NEW_CRBI_MEAN',\n",
       " 'NEW_CWALKS_MEAN']"
      ]
     },
     "execution_count": 83,
     "metadata": {},
     "output_type": "execute_result"
    }
   ],
   "source": [
    "num_cols"
   ]
  },
  {
   "cell_type": "markdown",
   "id": "f8fdd8ba",
   "metadata": {},
   "source": [
    "- #### Encoding is essential for distance based methods."
   ]
  },
  {
   "cell_type": "code",
   "execution_count": 84,
   "id": "a35f8260",
   "metadata": {},
   "outputs": [],
   "source": [
    "def rare_analyser(dataframe, target, cat_cols):\n",
    "    for col in cat_cols:\n",
    "        print(col, \":\", len(dataframe[col].value_counts()))\n",
    "        print(pd.DataFrame({\"COUNT\": dataframe[col].value_counts(),\n",
    "                            \"RATIO\": dataframe[col].value_counts() / len(dataframe),\n",
    "                            \"TARGET_MEAN\": dataframe.groupby(col)[target].mean()}), end=\"\\n\\n\\n\")"
   ]
  },
  {
   "cell_type": "code",
   "execution_count": 85,
   "id": "1fae4491",
   "metadata": {},
   "outputs": [
    {
     "name": "stdout",
     "output_type": "stream",
     "text": [
      "LEAGUE : 2\n",
      "        COUNT  RATIO  TARGET_MEAN\n",
      "LEAGUE                           \n",
      "A         139   0.53       542.00\n",
      "N         124   0.47       529.12\n",
      "\n",
      "\n",
      "DIVISION : 2\n",
      "          COUNT  RATIO  TARGET_MEAN\n",
      "DIVISION                           \n",
      "E           129   0.49       624.27\n",
      "W           134   0.51       450.88\n",
      "\n",
      "\n",
      "NEWLEAGUE : 2\n",
      "           COUNT  RATIO  TARGET_MEAN\n",
      "NEWLEAGUE                           \n",
      "A            141   0.54       537.11\n",
      "N            122   0.46       534.55\n",
      "\n",
      "\n",
      "NEW_YEARS_LEVEL : 4\n",
      "                 COUNT  RATIO  TARGET_MEAN\n",
      "NEW_YEARS_LEVEL                           \n",
      "Expert              65   0.25       755.11\n",
      "Junior              38   0.14       186.92\n",
      "Mid                 78   0.30       359.34\n",
      "Senior              82   0.31       691.89\n",
      "\n",
      "\n",
      "NEW_DIV_CAT : 8\n",
      "             COUNT  RATIO  TARGET_MEAN\n",
      "NEW_DIV_CAT                           \n",
      "Expert-East     32   0.12       809.78\n",
      "Expert-West     33   0.13       702.10\n",
      "Junior-East     16   0.06       229.30\n",
      "Junior-West     22   0.08       156.09\n",
      "Mid-East        37   0.14       427.91\n",
      "Mid-West        41   0.16       297.46\n",
      "Senior-East     44   0.17       798.11\n",
      "Senior-West     38   0.14       568.90\n",
      "\n",
      "\n",
      "NEW_PLAYER_PROGRESS : 4\n",
      "                     COUNT  RATIO  TARGET_MEAN\n",
      "NEW_PLAYER_PROGRESS                           \n",
      "Ascend                   8   0.03       558.12\n",
      "Descend                 10   0.04       486.00\n",
      "StandA                 131   0.50       541.01\n",
      "StandN                 114   0.43       532.90\n",
      "\n",
      "\n"
     ]
    }
   ],
   "source": [
    "rare_analyser(df, \"SALARY\", cat_cols)"
   ]
  },
  {
   "cell_type": "markdown",
   "id": "c5a7de3c",
   "metadata": {},
   "source": [
    "- #### There are observations below 1 percent in the Location x Experience variable. However, since I think these carry information in a fragmentary manner, I will not combine them.\n",
    "- #### In the variable indicating the player's development, the class rates were equal to each other. Here two classes with 8 and 10 observations can be combined as Rare."
   ]
  },
  {
   "cell_type": "code",
   "execution_count": 86,
   "id": "43612157",
   "metadata": {},
   "outputs": [],
   "source": [
    "def rare_encoder(dataframe, rare_perc):\n",
    "    temp_df = dataframe.copy()\n",
    "\n",
    "    rare_columns = [\"NEW_PLAYER_PROGRESS\"]\n",
    "\n",
    "    for var in rare_columns:\n",
    "        tmp = temp_df[var].value_counts() / len(temp_df)\n",
    "        rare_labels = tmp[tmp < rare_perc].index\n",
    "        temp_df[var] = np.where(temp_df[var].isin(rare_labels), 'Rare', temp_df[var])\n",
    "\n",
    "    return temp_df"
   ]
  },
  {
   "cell_type": "code",
   "execution_count": 87,
   "id": "5212463f",
   "metadata": {},
   "outputs": [],
   "source": [
    "df = rare_encoder(df, 0.1)"
   ]
  },
  {
   "cell_type": "code",
   "execution_count": 88,
   "id": "caf31c69",
   "metadata": {},
   "outputs": [
    {
     "data": {
      "text/plain": [
       "NEW_PLAYER_PROGRESS\n",
       "StandA    131\n",
       "StandN    114\n",
       "Rare       18\n",
       "Name: count, dtype: int64"
      ]
     },
     "execution_count": 88,
     "metadata": {},
     "output_type": "execute_result"
    }
   ],
   "source": [
    "df[\"NEW_PLAYER_PROGRESS\"].value_counts()"
   ]
  },
  {
   "cell_type": "markdown",
   "id": "d4c113b0",
   "metadata": {},
   "source": [
    "## One-Hot Encoding"
   ]
  },
  {
   "cell_type": "code",
   "execution_count": 89,
   "id": "063d50c1",
   "metadata": {},
   "outputs": [],
   "source": [
    "df_encoded = pd.get_dummies(df, columns = cat_cols, drop_first = True)"
   ]
  },
  {
   "cell_type": "markdown",
   "id": "9533fa75",
   "metadata": {},
   "source": [
    "## Numeric Scaler"
   ]
  },
  {
   "cell_type": "code",
   "execution_count": 90,
   "id": "525d1449",
   "metadata": {},
   "outputs": [],
   "source": [
    "num_cols.remove(\"SALARY\")"
   ]
  },
  {
   "cell_type": "markdown",
   "id": "286cf7bb",
   "metadata": {},
   "source": [
    "- #### The reason for the keeping target variable is to be able to clearly see the difference between the predicted value and the actual value since I will use linear regression."
   ]
  },
  {
   "cell_type": "code",
   "execution_count": 91,
   "id": "8ce39388",
   "metadata": {},
   "outputs": [],
   "source": [
    "scaler = RobustScaler()"
   ]
  },
  {
   "cell_type": "code",
   "execution_count": 92,
   "id": "4bbd1713",
   "metadata": {},
   "outputs": [],
   "source": [
    "df_encoded[num_cols] = scaler.fit_transform(df_encoded[num_cols])"
   ]
  },
  {
   "cell_type": "code",
   "execution_count": 93,
   "id": "daea7e8b",
   "metadata": {
    "scrolled": true
   },
   "outputs": [
    {
     "data": {
      "text/html": [
       "<div>\n",
       "<style scoped>\n",
       "    .dataframe tbody tr th:only-of-type {\n",
       "        vertical-align: middle;\n",
       "    }\n",
       "\n",
       "    .dataframe tbody tr th {\n",
       "        vertical-align: top;\n",
       "    }\n",
       "\n",
       "    .dataframe thead th {\n",
       "        text-align: right;\n",
       "    }\n",
       "</style>\n",
       "<table border=\"1\" class=\"dataframe\">\n",
       "  <thead>\n",
       "    <tr style=\"text-align: right;\">\n",
       "      <th></th>\n",
       "      <th>ATBAT</th>\n",
       "      <th>HITS</th>\n",
       "      <th>HMRUN</th>\n",
       "      <th>RUNS</th>\n",
       "      <th>RBI</th>\n",
       "      <th>WALKS</th>\n",
       "      <th>YEARS</th>\n",
       "      <th>CATBAT</th>\n",
       "      <th>CHITS</th>\n",
       "      <th>CHMRUN</th>\n",
       "      <th>CRUNS</th>\n",
       "      <th>CRBI</th>\n",
       "      <th>CWALKS</th>\n",
       "      <th>PUTOUTS</th>\n",
       "      <th>ASSISTS</th>\n",
       "      <th>ERRORS</th>\n",
       "      <th>SALARY</th>\n",
       "      <th>NEW_C_RUNS_RATIO</th>\n",
       "      <th>NEW_C_ATBAT_RATIO</th>\n",
       "      <th>NEW_C_HITS_RATIO</th>\n",
       "      <th>NEW_C_HMRUN_RATIO</th>\n",
       "      <th>NEW_C_RBI_RATIO</th>\n",
       "      <th>NEW_C_WALKS_RATIO</th>\n",
       "      <th>NEW_C_HIT_RATE</th>\n",
       "      <th>NEW_C_RUNNER</th>\n",
       "      <th>NEW_C_HIT-AND-RUN</th>\n",
       "      <th>NEW_C_HMHITS_RATIO</th>\n",
       "      <th>NEW_C_HMATBAT_RATIO</th>\n",
       "      <th>NEW_CATBAT_MEAN</th>\n",
       "      <th>NEW_CHITS_MEAN</th>\n",
       "      <th>NEW_CHMRUN_MEAN</th>\n",
       "      <th>NEW_CRUNS_MEAN</th>\n",
       "      <th>NEW_CRBI_MEAN</th>\n",
       "      <th>NEW_CWALKS_MEAN</th>\n",
       "      <th>LEAGUE_N</th>\n",
       "      <th>DIVISION_W</th>\n",
       "      <th>NEWLEAGUE_N</th>\n",
       "      <th>NEW_YEARS_LEVEL_Junior</th>\n",
       "      <th>NEW_YEARS_LEVEL_Mid</th>\n",
       "      <th>NEW_YEARS_LEVEL_Senior</th>\n",
       "      <th>NEW_DIV_CAT_Expert-West</th>\n",
       "      <th>NEW_DIV_CAT_Junior-East</th>\n",
       "      <th>NEW_DIV_CAT_Junior-West</th>\n",
       "      <th>NEW_DIV_CAT_Mid-East</th>\n",
       "      <th>NEW_DIV_CAT_Mid-West</th>\n",
       "      <th>NEW_DIV_CAT_Senior-East</th>\n",
       "      <th>NEW_DIV_CAT_Senior-West</th>\n",
       "      <th>NEW_PLAYER_PROGRESS_StandA</th>\n",
       "      <th>NEW_PLAYER_PROGRESS_StandN</th>\n",
       "    </tr>\n",
       "  </thead>\n",
       "  <tbody>\n",
       "    <tr>\n",
       "      <th>1</th>\n",
       "      <td>-0.40</td>\n",
       "      <td>-0.31</td>\n",
       "      <td>-0.15</td>\n",
       "      <td>-0.71</td>\n",
       "      <td>-0.22</td>\n",
       "      <td>0.06</td>\n",
       "      <td>1.33</td>\n",
       "      <td>0.50</td>\n",
       "      <td>0.38</td>\n",
       "      <td>0.37</td>\n",
       "      <td>0.18</td>\n",
       "      <td>0.56</td>\n",
       "      <td>0.78</td>\n",
       "      <td>1.95</td>\n",
       "      <td>-0.01</td>\n",
       "      <td>0.30</td>\n",
       "      <td>475.00</td>\n",
       "      <td>-0.40</td>\n",
       "      <td>-0.36</td>\n",
       "      <td>-0.33</td>\n",
       "      <td>-0.43</td>\n",
       "      <td>-0.36</td>\n",
       "      <td>-0.36</td>\n",
       "      <td>-0.66</td>\n",
       "      <td>0.27</td>\n",
       "      <td>-1.19</td>\n",
       "      <td>-0.02</td>\n",
       "      <td>0.11</td>\n",
       "      <td>-0.44</td>\n",
       "      <td>-0.51</td>\n",
       "      <td>-0.18</td>\n",
       "      <td>-0.69</td>\n",
       "      <td>-0.25</td>\n",
       "      <td>-0.12</td>\n",
       "      <td>True</td>\n",
       "      <td>True</td>\n",
       "      <td>True</td>\n",
       "      <td>False</td>\n",
       "      <td>False</td>\n",
       "      <td>False</td>\n",
       "      <td>True</td>\n",
       "      <td>False</td>\n",
       "      <td>False</td>\n",
       "      <td>False</td>\n",
       "      <td>False</td>\n",
       "      <td>False</td>\n",
       "      <td>False</td>\n",
       "      <td>False</td>\n",
       "      <td>True</td>\n",
       "    </tr>\n",
       "    <tr>\n",
       "      <th>2</th>\n",
       "      <td>0.27</td>\n",
       "      <td>0.39</td>\n",
       "      <td>0.69</td>\n",
       "      <td>0.35</td>\n",
       "      <td>0.61</td>\n",
       "      <td>1.15</td>\n",
       "      <td>-0.50</td>\n",
       "      <td>-0.10</td>\n",
       "      <td>-0.07</td>\n",
       "      <td>0.30</td>\n",
       "      <td>-0.07</td>\n",
       "      <td>0.11</td>\n",
       "      <td>0.35</td>\n",
       "      <td>3.14</td>\n",
       "      <td>0.20</td>\n",
       "      <td>0.70</td>\n",
       "      <td>480.00</td>\n",
       "      <td>0.21</td>\n",
       "      <td>0.27</td>\n",
       "      <td>0.24</td>\n",
       "      <td>0.08</td>\n",
       "      <td>0.14</td>\n",
       "      <td>0.20</td>\n",
       "      <td>0.61</td>\n",
       "      <td>0.73</td>\n",
       "      <td>-0.05</td>\n",
       "      <td>0.62</td>\n",
       "      <td>-0.41</td>\n",
       "      <td>0.96</td>\n",
       "      <td>1.02</td>\n",
       "      <td>1.63</td>\n",
       "      <td>0.95</td>\n",
       "      <td>1.59</td>\n",
       "      <td>2.77</td>\n",
       "      <td>False</td>\n",
       "      <td>True</td>\n",
       "      <td>False</td>\n",
       "      <td>False</td>\n",
       "      <td>True</td>\n",
       "      <td>False</td>\n",
       "      <td>False</td>\n",
       "      <td>False</td>\n",
       "      <td>False</td>\n",
       "      <td>False</td>\n",
       "      <td>True</td>\n",
       "      <td>False</td>\n",
       "      <td>False</td>\n",
       "      <td>True</td>\n",
       "      <td>False</td>\n",
       "    </tr>\n",
       "    <tr>\n",
       "      <th>3</th>\n",
       "      <td>0.34</td>\n",
       "      <td>0.54</td>\n",
       "      <td>0.85</td>\n",
       "      <td>0.33</td>\n",
       "      <td>0.76</td>\n",
       "      <td>0.00</td>\n",
       "      <td>0.83</td>\n",
       "      <td>1.21</td>\n",
       "      <td>1.26</td>\n",
       "      <td>2.39</td>\n",
       "      <td>1.47</td>\n",
       "      <td>1.85</td>\n",
       "      <td>0.70</td>\n",
       "      <td>-0.11</td>\n",
       "      <td>-0.18</td>\n",
       "      <td>-0.40</td>\n",
       "      <td>500.00</td>\n",
       "      <td>-0.39</td>\n",
       "      <td>-0.37</td>\n",
       "      <td>-0.35</td>\n",
       "      <td>-0.50</td>\n",
       "      <td>-0.36</td>\n",
       "      <td>-0.36</td>\n",
       "      <td>0.55</td>\n",
       "      <td>0.46</td>\n",
       "      <td>0.32</td>\n",
       "      <td>0.66</td>\n",
       "      <td>-0.42</td>\n",
       "      <td>0.82</td>\n",
       "      <td>0.87</td>\n",
       "      <td>1.54</td>\n",
       "      <td>0.96</td>\n",
       "      <td>1.19</td>\n",
       "      <td>0.13</td>\n",
       "      <td>True</td>\n",
       "      <td>False</td>\n",
       "      <td>True</td>\n",
       "      <td>False</td>\n",
       "      <td>False</td>\n",
       "      <td>False</td>\n",
       "      <td>False</td>\n",
       "      <td>False</td>\n",
       "      <td>False</td>\n",
       "      <td>False</td>\n",
       "      <td>False</td>\n",
       "      <td>False</td>\n",
       "      <td>False</td>\n",
       "      <td>False</td>\n",
       "      <td>True</td>\n",
       "    </tr>\n",
       "    <tr>\n",
       "      <th>4</th>\n",
       "      <td>-0.38</td>\n",
       "      <td>-0.23</td>\n",
       "      <td>0.08</td>\n",
       "      <td>-0.33</td>\n",
       "      <td>-0.12</td>\n",
       "      <td>-0.21</td>\n",
       "      <td>-0.67</td>\n",
       "      <td>-0.50</td>\n",
       "      <td>-0.49</td>\n",
       "      <td>-0.36</td>\n",
       "      <td>-0.52</td>\n",
       "      <td>-0.56</td>\n",
       "      <td>-0.55</td>\n",
       "      <td>2.78</td>\n",
       "      <td>-0.03</td>\n",
       "      <td>-0.30</td>\n",
       "      <td>91.50</td>\n",
       "      <td>1.65</td>\n",
       "      <td>1.88</td>\n",
       "      <td>1.97</td>\n",
       "      <td>1.63</td>\n",
       "      <td>1.95</td>\n",
       "      <td>2.10</td>\n",
       "      <td>-0.19</td>\n",
       "      <td>0.08</td>\n",
       "      <td>-0.17</td>\n",
       "      <td>0.48</td>\n",
       "      <td>-0.30</td>\n",
       "      <td>-0.67</td>\n",
       "      <td>-0.66</td>\n",
       "      <td>-0.01</td>\n",
       "      <td>-0.64</td>\n",
       "      <td>-0.44</td>\n",
       "      <td>-0.59</td>\n",
       "      <td>True</td>\n",
       "      <td>False</td>\n",
       "      <td>True</td>\n",
       "      <td>True</td>\n",
       "      <td>False</td>\n",
       "      <td>False</td>\n",
       "      <td>False</td>\n",
       "      <td>True</td>\n",
       "      <td>False</td>\n",
       "      <td>False</td>\n",
       "      <td>False</td>\n",
       "      <td>False</td>\n",
       "      <td>False</td>\n",
       "      <td>False</td>\n",
       "      <td>True</td>\n",
       "    </tr>\n",
       "    <tr>\n",
       "      <th>5</th>\n",
       "      <td>0.74</td>\n",
       "      <td>0.94</td>\n",
       "      <td>-0.38</td>\n",
       "      <td>0.56</td>\n",
       "      <td>0.10</td>\n",
       "      <td>-0.06</td>\n",
       "      <td>0.83</td>\n",
       "      <td>0.81</td>\n",
       "      <td>0.73</td>\n",
       "      <td>-0.27</td>\n",
       "      <td>0.64</td>\n",
       "      <td>0.32</td>\n",
       "      <td>0.08</td>\n",
       "      <td>0.28</td>\n",
       "      <td>2.04</td>\n",
       "      <td>1.80</td>\n",
       "      <td>750.00</td>\n",
       "      <td>-0.20</td>\n",
       "      <td>-0.23</td>\n",
       "      <td>-0.17</td>\n",
       "      <td>-0.05</td>\n",
       "      <td>-0.19</td>\n",
       "      <td>-0.12</td>\n",
       "      <td>-0.18</td>\n",
       "      <td>-0.79</td>\n",
       "      <td>-0.57</td>\n",
       "      <td>-0.79</td>\n",
       "      <td>3.84</td>\n",
       "      <td>0.29</td>\n",
       "      <td>0.20</td>\n",
       "      <td>-0.53</td>\n",
       "      <td>0.02</td>\n",
       "      <td>-0.22</td>\n",
       "      <td>-0.56</td>\n",
       "      <td>False</td>\n",
       "      <td>True</td>\n",
       "      <td>False</td>\n",
       "      <td>False</td>\n",
       "      <td>False</td>\n",
       "      <td>False</td>\n",
       "      <td>True</td>\n",
       "      <td>False</td>\n",
       "      <td>False</td>\n",
       "      <td>False</td>\n",
       "      <td>False</td>\n",
       "      <td>False</td>\n",
       "      <td>False</td>\n",
       "      <td>True</td>\n",
       "      <td>False</td>\n",
       "    </tr>\n",
       "  </tbody>\n",
       "</table>\n",
       "</div>"
      ],
      "text/plain": [
       "   ATBAT  HITS  HMRUN  RUNS   RBI  WALKS  YEARS  CATBAT  CHITS  CHMRUN  CRUNS  CRBI  CWALKS  PUTOUTS  ASSISTS  ERRORS  SALARY  NEW_C_RUNS_RATIO  NEW_C_ATBAT_RATIO  NEW_C_HITS_RATIO  NEW_C_HMRUN_RATIO  NEW_C_RBI_RATIO  NEW_C_WALKS_RATIO  NEW_C_HIT_RATE  NEW_C_RUNNER  NEW_C_HIT-AND-RUN  NEW_C_HMHITS_RATIO  NEW_C_HMATBAT_RATIO  NEW_CATBAT_MEAN  NEW_CHITS_MEAN  NEW_CHMRUN_MEAN  NEW_CRUNS_MEAN  NEW_CRBI_MEAN  NEW_CWALKS_MEAN  LEAGUE_N  DIVISION_W  NEWLEAGUE_N  NEW_YEARS_LEVEL_Junior   \n",
       "1  -0.40 -0.31  -0.15 -0.71 -0.22   0.06   1.33    0.50   0.38    0.37   0.18  0.56    0.78     1.95    -0.01    0.30  475.00             -0.40              -0.36             -0.33              -0.43            -0.36              -0.36           -0.66          0.27              -1.19               -0.02                 0.11            -0.44           -0.51            -0.18           -0.69          -0.25            -0.12      True        True         True                   False  \\\n",
       "2   0.27  0.39   0.69  0.35  0.61   1.15  -0.50   -0.10  -0.07    0.30  -0.07  0.11    0.35     3.14     0.20    0.70  480.00              0.21               0.27              0.24               0.08             0.14               0.20            0.61          0.73              -0.05                0.62                -0.41             0.96            1.02             1.63            0.95           1.59             2.77     False        True        False                   False   \n",
       "3   0.34  0.54   0.85  0.33  0.76   0.00   0.83    1.21   1.26    2.39   1.47  1.85    0.70    -0.11    -0.18   -0.40  500.00             -0.39              -0.37             -0.35              -0.50            -0.36              -0.36            0.55          0.46               0.32                0.66                -0.42             0.82            0.87             1.54            0.96           1.19             0.13      True       False         True                   False   \n",
       "4  -0.38 -0.23   0.08 -0.33 -0.12  -0.21  -0.67   -0.50  -0.49   -0.36  -0.52 -0.56   -0.55     2.78    -0.03   -0.30   91.50              1.65               1.88              1.97               1.63             1.95               2.10           -0.19          0.08              -0.17                0.48                -0.30            -0.67           -0.66            -0.01           -0.64          -0.44            -0.59      True       False         True                    True   \n",
       "5   0.74  0.94  -0.38  0.56  0.10  -0.06   0.83    0.81   0.73   -0.27   0.64  0.32    0.08     0.28     2.04    1.80  750.00             -0.20              -0.23             -0.17              -0.05            -0.19              -0.12           -0.18         -0.79              -0.57               -0.79                 3.84             0.29            0.20            -0.53            0.02          -0.22            -0.56     False        True        False                   False   \n",
       "\n",
       "   NEW_YEARS_LEVEL_Mid  NEW_YEARS_LEVEL_Senior  NEW_DIV_CAT_Expert-West  NEW_DIV_CAT_Junior-East  NEW_DIV_CAT_Junior-West  NEW_DIV_CAT_Mid-East  NEW_DIV_CAT_Mid-West  NEW_DIV_CAT_Senior-East  NEW_DIV_CAT_Senior-West  NEW_PLAYER_PROGRESS_StandA  NEW_PLAYER_PROGRESS_StandN  \n",
       "1                False                   False                     True                    False                    False                 False                 False                    False                    False                       False                        True  \n",
       "2                 True                   False                    False                    False                    False                 False                  True                    False                    False                        True                       False  \n",
       "3                False                   False                    False                    False                    False                 False                 False                    False                    False                       False                        True  \n",
       "4                False                   False                    False                     True                    False                 False                 False                    False                    False                       False                        True  \n",
       "5                False                   False                     True                    False                    False                 False                 False                    False                    False                        True                       False  "
      ]
     },
     "execution_count": 93,
     "metadata": {},
     "output_type": "execute_result"
    }
   ],
   "source": [
    "df_encoded.head()"
   ]
  },
  {
   "cell_type": "code",
   "execution_count": 94,
   "id": "c9a9b19a",
   "metadata": {},
   "outputs": [
    {
     "data": {
      "text/plain": [
       "(263, 49)"
      ]
     },
     "execution_count": 94,
     "metadata": {},
     "output_type": "execute_result"
    }
   ],
   "source": [
    "df_encoded.shape"
   ]
  },
  {
   "cell_type": "markdown",
   "id": "65813210",
   "metadata": {},
   "source": [
    "## Modeling **w/Linear Regression**"
   ]
  },
  {
   "cell_type": "code",
   "execution_count": 95,
   "id": "80944201",
   "metadata": {},
   "outputs": [],
   "source": [
    "X = df_encoded.drop(\"SALARY\", axis = 1)"
   ]
  },
  {
   "cell_type": "code",
   "execution_count": 96,
   "id": "884e8965",
   "metadata": {},
   "outputs": [],
   "source": [
    "y = df_encoded[\"SALARY\"]"
   ]
  },
  {
   "cell_type": "code",
   "execution_count": 97,
   "id": "a7614fe9",
   "metadata": {},
   "outputs": [],
   "source": [
    "X_train, X_test, y_train, y_test = train_test_split(X, y, test_size = 0.20)"
   ]
  },
  {
   "cell_type": "code",
   "execution_count": 98,
   "id": "9eae9379",
   "metadata": {},
   "outputs": [],
   "source": [
    "lr_model = LinearRegression()"
   ]
  },
  {
   "cell_type": "code",
   "execution_count": 99,
   "id": "da2e0733",
   "metadata": {},
   "outputs": [
    {
     "data": {
      "text/html": [
       "<style>#sk-container-id-1 {color: black;background-color: white;}#sk-container-id-1 pre{padding: 0;}#sk-container-id-1 div.sk-toggleable {background-color: white;}#sk-container-id-1 label.sk-toggleable__label {cursor: pointer;display: block;width: 100%;margin-bottom: 0;padding: 0.3em;box-sizing: border-box;text-align: center;}#sk-container-id-1 label.sk-toggleable__label-arrow:before {content: \"▸\";float: left;margin-right: 0.25em;color: #696969;}#sk-container-id-1 label.sk-toggleable__label-arrow:hover:before {color: black;}#sk-container-id-1 div.sk-estimator:hover label.sk-toggleable__label-arrow:before {color: black;}#sk-container-id-1 div.sk-toggleable__content {max-height: 0;max-width: 0;overflow: hidden;text-align: left;background-color: #f0f8ff;}#sk-container-id-1 div.sk-toggleable__content pre {margin: 0.2em;color: black;border-radius: 0.25em;background-color: #f0f8ff;}#sk-container-id-1 input.sk-toggleable__control:checked~div.sk-toggleable__content {max-height: 200px;max-width: 100%;overflow: auto;}#sk-container-id-1 input.sk-toggleable__control:checked~label.sk-toggleable__label-arrow:before {content: \"▾\";}#sk-container-id-1 div.sk-estimator input.sk-toggleable__control:checked~label.sk-toggleable__label {background-color: #d4ebff;}#sk-container-id-1 div.sk-label input.sk-toggleable__control:checked~label.sk-toggleable__label {background-color: #d4ebff;}#sk-container-id-1 input.sk-hidden--visually {border: 0;clip: rect(1px 1px 1px 1px);clip: rect(1px, 1px, 1px, 1px);height: 1px;margin: -1px;overflow: hidden;padding: 0;position: absolute;width: 1px;}#sk-container-id-1 div.sk-estimator {font-family: monospace;background-color: #f0f8ff;border: 1px dotted black;border-radius: 0.25em;box-sizing: border-box;margin-bottom: 0.5em;}#sk-container-id-1 div.sk-estimator:hover {background-color: #d4ebff;}#sk-container-id-1 div.sk-parallel-item::after {content: \"\";width: 100%;border-bottom: 1px solid gray;flex-grow: 1;}#sk-container-id-1 div.sk-label:hover label.sk-toggleable__label {background-color: #d4ebff;}#sk-container-id-1 div.sk-serial::before {content: \"\";position: absolute;border-left: 1px solid gray;box-sizing: border-box;top: 0;bottom: 0;left: 50%;z-index: 0;}#sk-container-id-1 div.sk-serial {display: flex;flex-direction: column;align-items: center;background-color: white;padding-right: 0.2em;padding-left: 0.2em;position: relative;}#sk-container-id-1 div.sk-item {position: relative;z-index: 1;}#sk-container-id-1 div.sk-parallel {display: flex;align-items: stretch;justify-content: center;background-color: white;position: relative;}#sk-container-id-1 div.sk-item::before, #sk-container-id-1 div.sk-parallel-item::before {content: \"\";position: absolute;border-left: 1px solid gray;box-sizing: border-box;top: 0;bottom: 0;left: 50%;z-index: -1;}#sk-container-id-1 div.sk-parallel-item {display: flex;flex-direction: column;z-index: 1;position: relative;background-color: white;}#sk-container-id-1 div.sk-parallel-item:first-child::after {align-self: flex-end;width: 50%;}#sk-container-id-1 div.sk-parallel-item:last-child::after {align-self: flex-start;width: 50%;}#sk-container-id-1 div.sk-parallel-item:only-child::after {width: 0;}#sk-container-id-1 div.sk-dashed-wrapped {border: 1px dashed gray;margin: 0 0.4em 0.5em 0.4em;box-sizing: border-box;padding-bottom: 0.4em;background-color: white;}#sk-container-id-1 div.sk-label label {font-family: monospace;font-weight: bold;display: inline-block;line-height: 1.2em;}#sk-container-id-1 div.sk-label-container {text-align: center;}#sk-container-id-1 div.sk-container {/* jupyter's `normalize.less` sets `[hidden] { display: none; }` but bootstrap.min.css set `[hidden] { display: none !important; }` so we also need the `!important` here to be able to override the default hidden behavior on the sphinx rendered scikit-learn.org. See: https://github.com/scikit-learn/scikit-learn/issues/21755 */display: inline-block !important;position: relative;}#sk-container-id-1 div.sk-text-repr-fallback {display: none;}</style><div id=\"sk-container-id-1\" class=\"sk-top-container\"><div class=\"sk-text-repr-fallback\"><pre>LinearRegression()</pre><b>In a Jupyter environment, please rerun this cell to show the HTML representation or trust the notebook. <br />On GitHub, the HTML representation is unable to render, please try loading this page with nbviewer.org.</b></div><div class=\"sk-container\" hidden><div class=\"sk-item\"><div class=\"sk-estimator sk-toggleable\"><input class=\"sk-toggleable__control sk-hidden--visually\" id=\"sk-estimator-id-1\" type=\"checkbox\" checked><label for=\"sk-estimator-id-1\" class=\"sk-toggleable__label sk-toggleable__label-arrow\">LinearRegression</label><div class=\"sk-toggleable__content\"><pre>LinearRegression()</pre></div></div></div></div></div>"
      ],
      "text/plain": [
       "LinearRegression()"
      ]
     },
     "execution_count": 99,
     "metadata": {},
     "output_type": "execute_result"
    }
   ],
   "source": [
    "lr_model.fit(X_train, y_train)"
   ]
  },
  {
   "cell_type": "markdown",
   "id": "6288b66d",
   "metadata": {},
   "source": [
    "- #### b-bias"
   ]
  },
  {
   "cell_type": "code",
   "execution_count": 100,
   "id": "64391513",
   "metadata": {},
   "outputs": [
    {
     "data": {
      "text/plain": [
       "797.0292038002178"
      ]
     },
     "execution_count": 100,
     "metadata": {},
     "output_type": "execute_result"
    }
   ],
   "source": [
    "lr_model.intercept_"
   ]
  },
  {
   "cell_type": "markdown",
   "id": "f637d34b",
   "metadata": {},
   "source": [
    "- #### coefficients - weights - w"
   ]
  },
  {
   "cell_type": "code",
   "execution_count": 101,
   "id": "4976a9be",
   "metadata": {},
   "outputs": [
    {
     "data": {
      "text/plain": [
       "array([-5.25125126e+02,  4.61459794e+02, -2.14693018e+02,  1.17123064e+02,\n",
       "        2.13473898e+02,  1.46653821e+02, -4.52148194e+02, -3.07384848e+02,\n",
       "       -4.30809560e+01, -1.46918921e+02,  5.24886998e+02,  2.94515158e+02,\n",
       "       -6.27820357e+01,  4.05281443e+01, -1.09574267e+01,  4.51882355e+01,\n",
       "       -6.25047713e+02,  1.18603267e+03, -6.11895776e+02,  1.04291978e+02,\n",
       "       -2.56842502e+02, -1.96643260e+02, -9.82889554e+01, -1.82876362e+02,\n",
       "       -2.31419291e+01,  1.81429789e+02,  3.45200585e+01, -7.93883401e+02,\n",
       "        7.18592069e+02,  1.50198169e+02, -2.51578422e+02,  2.03829452e+02,\n",
       "        7.09252693e+00,  1.79733801e+01, -9.16660797e+01,  6.51823828e-01,\n",
       "       -1.13559728e+02, -2.26212604e+02, -6.59422883e+01,  4.72919475e+01,\n",
       "       -1.08888139e+02, -4.67158951e+00, -1.25635583e+02, -1.00577021e+02,\n",
       "       -3.22328712e+01, -3.37094170e+01, -1.35967369e+02, -1.17342165e+02])"
      ]
     },
     "execution_count": 101,
     "metadata": {},
     "output_type": "execute_result"
    }
   ],
   "source": [
    "lr_model.coef_"
   ]
  },
  {
   "cell_type": "markdown",
   "id": "19711278",
   "metadata": {},
   "source": [
    "- #### Linear Regression y_hat = b + w * x"
   ]
  },
  {
   "cell_type": "code",
   "execution_count": 102,
   "id": "5e55c354",
   "metadata": {
    "scrolled": true
   },
   "outputs": [
    {
     "data": {
      "text/html": [
       "<div>\n",
       "<style scoped>\n",
       "    .dataframe tbody tr th:only-of-type {\n",
       "        vertical-align: middle;\n",
       "    }\n",
       "\n",
       "    .dataframe tbody tr th {\n",
       "        vertical-align: top;\n",
       "    }\n",
       "\n",
       "    .dataframe thead th {\n",
       "        text-align: right;\n",
       "    }\n",
       "</style>\n",
       "<table border=\"1\" class=\"dataframe\">\n",
       "  <thead>\n",
       "    <tr style=\"text-align: right;\">\n",
       "      <th></th>\n",
       "      <th>ATBAT</th>\n",
       "      <th>HITS</th>\n",
       "      <th>HMRUN</th>\n",
       "      <th>RUNS</th>\n",
       "      <th>RBI</th>\n",
       "      <th>WALKS</th>\n",
       "      <th>YEARS</th>\n",
       "      <th>CATBAT</th>\n",
       "      <th>CHITS</th>\n",
       "      <th>CHMRUN</th>\n",
       "      <th>CRUNS</th>\n",
       "      <th>CRBI</th>\n",
       "      <th>CWALKS</th>\n",
       "      <th>PUTOUTS</th>\n",
       "      <th>ASSISTS</th>\n",
       "      <th>ERRORS</th>\n",
       "      <th>NEW_C_RUNS_RATIO</th>\n",
       "      <th>NEW_C_ATBAT_RATIO</th>\n",
       "      <th>NEW_C_HITS_RATIO</th>\n",
       "      <th>NEW_C_HMRUN_RATIO</th>\n",
       "      <th>NEW_C_RBI_RATIO</th>\n",
       "      <th>NEW_C_WALKS_RATIO</th>\n",
       "      <th>NEW_C_HIT_RATE</th>\n",
       "      <th>NEW_C_RUNNER</th>\n",
       "      <th>NEW_C_HIT-AND-RUN</th>\n",
       "      <th>NEW_C_HMHITS_RATIO</th>\n",
       "      <th>NEW_C_HMATBAT_RATIO</th>\n",
       "      <th>NEW_CATBAT_MEAN</th>\n",
       "      <th>NEW_CHITS_MEAN</th>\n",
       "      <th>NEW_CHMRUN_MEAN</th>\n",
       "      <th>NEW_CRUNS_MEAN</th>\n",
       "      <th>NEW_CRBI_MEAN</th>\n",
       "      <th>NEW_CWALKS_MEAN</th>\n",
       "      <th>LEAGUE_N</th>\n",
       "      <th>DIVISION_W</th>\n",
       "      <th>NEWLEAGUE_N</th>\n",
       "      <th>NEW_YEARS_LEVEL_Junior</th>\n",
       "      <th>NEW_YEARS_LEVEL_Mid</th>\n",
       "      <th>NEW_YEARS_LEVEL_Senior</th>\n",
       "      <th>NEW_DIV_CAT_Expert-West</th>\n",
       "      <th>NEW_DIV_CAT_Junior-East</th>\n",
       "      <th>NEW_DIV_CAT_Junior-West</th>\n",
       "      <th>NEW_DIV_CAT_Mid-East</th>\n",
       "      <th>NEW_DIV_CAT_Mid-West</th>\n",
       "      <th>NEW_DIV_CAT_Senior-East</th>\n",
       "      <th>NEW_DIV_CAT_Senior-West</th>\n",
       "      <th>NEW_PLAYER_PROGRESS_StandA</th>\n",
       "      <th>NEW_PLAYER_PROGRESS_StandN</th>\n",
       "    </tr>\n",
       "  </thead>\n",
       "  <tbody>\n",
       "    <tr>\n",
       "      <th>95</th>\n",
       "      <td>-0.13</td>\n",
       "      <td>0.23</td>\n",
       "      <td>0.31</td>\n",
       "      <td>0.05</td>\n",
       "      <td>0.27</td>\n",
       "      <td>-0.03</td>\n",
       "      <td>1.00</td>\n",
       "      <td>0.07</td>\n",
       "      <td>0.09</td>\n",
       "      <td>0.01</td>\n",
       "      <td>0.09</td>\n",
       "      <td>0.19</td>\n",
       "      <td>0.21</td>\n",
       "      <td>-0.79</td>\n",
       "      <td>0.60</td>\n",
       "      <td>0.20</td>\n",
       "      <td>-0.08</td>\n",
       "      <td>-0.09</td>\n",
       "      <td>-0.02</td>\n",
       "      <td>0.18</td>\n",
       "      <td>-0.06</td>\n",
       "      <td>-0.19</td>\n",
       "      <td>0.51</td>\n",
       "      <td>0.27</td>\n",
       "      <td>-0.13</td>\n",
       "      <td>-0.18</td>\n",
       "      <td>0.14</td>\n",
       "      <td>-0.77</td>\n",
       "      <td>-0.68</td>\n",
       "      <td>-0.34</td>\n",
       "      <td>-0.66</td>\n",
       "      <td>-0.40</td>\n",
       "      <td>-0.50</td>\n",
       "      <td>True</td>\n",
       "      <td>True</td>\n",
       "      <td>True</td>\n",
       "      <td>False</td>\n",
       "      <td>False</td>\n",
       "      <td>False</td>\n",
       "      <td>True</td>\n",
       "      <td>False</td>\n",
       "      <td>False</td>\n",
       "      <td>False</td>\n",
       "      <td>False</td>\n",
       "      <td>False</td>\n",
       "      <td>False</td>\n",
       "      <td>False</td>\n",
       "      <td>True</td>\n",
       "    </tr>\n",
       "    <tr>\n",
       "      <th>27</th>\n",
       "      <td>0.25</td>\n",
       "      <td>0.37</td>\n",
       "      <td>0.08</td>\n",
       "      <td>-0.05</td>\n",
       "      <td>0.22</td>\n",
       "      <td>0.09</td>\n",
       "      <td>0.67</td>\n",
       "      <td>0.13</td>\n",
       "      <td>0.10</td>\n",
       "      <td>0.27</td>\n",
       "      <td>-0.01</td>\n",
       "      <td>0.29</td>\n",
       "      <td>-0.03</td>\n",
       "      <td>2.43</td>\n",
       "      <td>0.21</td>\n",
       "      <td>0.60</td>\n",
       "      <td>-0.04</td>\n",
       "      <td>-0.02</td>\n",
       "      <td>0.02</td>\n",
       "      <td>-0.26</td>\n",
       "      <td>-0.14</td>\n",
       "      <td>0.06</td>\n",
       "      <td>-0.11</td>\n",
       "      <td>0.51</td>\n",
       "      <td>-0.94</td>\n",
       "      <td>0.19</td>\n",
       "      <td>-0.15</td>\n",
       "      <td>-0.50</td>\n",
       "      <td>-0.50</td>\n",
       "      <td>-0.04</td>\n",
       "      <td>-0.64</td>\n",
       "      <td>-0.15</td>\n",
       "      <td>-0.61</td>\n",
       "      <td>True</td>\n",
       "      <td>True</td>\n",
       "      <td>True</td>\n",
       "      <td>False</td>\n",
       "      <td>False</td>\n",
       "      <td>True</td>\n",
       "      <td>False</td>\n",
       "      <td>False</td>\n",
       "      <td>False</td>\n",
       "      <td>False</td>\n",
       "      <td>False</td>\n",
       "      <td>False</td>\n",
       "      <td>True</td>\n",
       "      <td>False</td>\n",
       "      <td>True</td>\n",
       "    </tr>\n",
       "    <tr>\n",
       "      <th>129</th>\n",
       "      <td>0.64</td>\n",
       "      <td>0.94</td>\n",
       "      <td>0.92</td>\n",
       "      <td>0.51</td>\n",
       "      <td>1.00</td>\n",
       "      <td>0.03</td>\n",
       "      <td>0.17</td>\n",
       "      <td>0.60</td>\n",
       "      <td>0.67</td>\n",
       "      <td>1.29</td>\n",
       "      <td>0.62</td>\n",
       "      <td>1.09</td>\n",
       "      <td>0.35</td>\n",
       "      <td>0.34</td>\n",
       "      <td>-0.16</td>\n",
       "      <td>-0.20</td>\n",
       "      <td>-0.20</td>\n",
       "      <td>-0.18</td>\n",
       "      <td>-0.15</td>\n",
       "      <td>-0.32</td>\n",
       "      <td>-0.20</td>\n",
       "      <td>-0.24</td>\n",
       "      <td>0.78</td>\n",
       "      <td>0.54</td>\n",
       "      <td>-0.42</td>\n",
       "      <td>0.52</td>\n",
       "      <td>-0.39</td>\n",
       "      <td>0.93</td>\n",
       "      <td>1.04</td>\n",
       "      <td>1.49</td>\n",
       "      <td>0.81</td>\n",
       "      <td>1.44</td>\n",
       "      <td>0.39</td>\n",
       "      <td>False</td>\n",
       "      <td>True</td>\n",
       "      <td>False</td>\n",
       "      <td>False</td>\n",
       "      <td>False</td>\n",
       "      <td>True</td>\n",
       "      <td>False</td>\n",
       "      <td>False</td>\n",
       "      <td>False</td>\n",
       "      <td>False</td>\n",
       "      <td>False</td>\n",
       "      <td>False</td>\n",
       "      <td>True</td>\n",
       "      <td>True</td>\n",
       "      <td>False</td>\n",
       "    </tr>\n",
       "    <tr>\n",
       "      <th>319</th>\n",
       "      <td>0.25</td>\n",
       "      <td>0.33</td>\n",
       "      <td>-0.46</td>\n",
       "      <td>0.23</td>\n",
       "      <td>-0.10</td>\n",
       "      <td>0.44</td>\n",
       "      <td>0.00</td>\n",
       "      <td>-0.08</td>\n",
       "      <td>-0.10</td>\n",
       "      <td>-0.43</td>\n",
       "      <td>-0.08</td>\n",
       "      <td>-0.42</td>\n",
       "      <td>-0.11</td>\n",
       "      <td>-0.89</td>\n",
       "      <td>0.37</td>\n",
       "      <td>0.00</td>\n",
       "      <td>0.18</td>\n",
       "      <td>0.22</td>\n",
       "      <td>0.26</td>\n",
       "      <td>0.65</td>\n",
       "      <td>0.69</td>\n",
       "      <td>0.41</td>\n",
       "      <td>-0.25</td>\n",
       "      <td>-1.22</td>\n",
       "      <td>0.07</td>\n",
       "      <td>-0.78</td>\n",
       "      <td>3.67</td>\n",
       "      <td>-0.26</td>\n",
       "      <td>-0.31</td>\n",
       "      <td>-0.58</td>\n",
       "      <td>-0.27</td>\n",
       "      <td>-0.68</td>\n",
       "      <td>-0.24</td>\n",
       "      <td>False</td>\n",
       "      <td>True</td>\n",
       "      <td>False</td>\n",
       "      <td>False</td>\n",
       "      <td>False</td>\n",
       "      <td>True</td>\n",
       "      <td>False</td>\n",
       "      <td>False</td>\n",
       "      <td>False</td>\n",
       "      <td>False</td>\n",
       "      <td>False</td>\n",
       "      <td>False</td>\n",
       "      <td>True</td>\n",
       "      <td>True</td>\n",
       "      <td>False</td>\n",
       "    </tr>\n",
       "    <tr>\n",
       "      <th>70</th>\n",
       "      <td>-0.42</td>\n",
       "      <td>-0.31</td>\n",
       "      <td>-0.46</td>\n",
       "      <td>-0.25</td>\n",
       "      <td>-0.41</td>\n",
       "      <td>-0.32</td>\n",
       "      <td>1.83</td>\n",
       "      <td>2.07</td>\n",
       "      <td>2.00</td>\n",
       "      <td>0.77</td>\n",
       "      <td>1.79</td>\n",
       "      <td>2.06</td>\n",
       "      <td>2.00</td>\n",
       "      <td>-0.34</td>\n",
       "      <td>0.97</td>\n",
       "      <td>0.30</td>\n",
       "      <td>-0.49</td>\n",
       "      <td>-0.53</td>\n",
       "      <td>-0.51</td>\n",
       "      <td>-0.65</td>\n",
       "      <td>-0.53</td>\n",
       "      <td>-0.57</td>\n",
       "      <td>0.12</td>\n",
       "      <td>-0.17</td>\n",
       "      <td>-0.68</td>\n",
       "      <td>-0.46</td>\n",
       "      <td>0.81</td>\n",
       "      <td>0.69</td>\n",
       "      <td>0.64</td>\n",
       "      <td>-0.07</td>\n",
       "      <td>0.35</td>\n",
       "      <td>0.49</td>\n",
       "      <td>0.53</td>\n",
       "      <td>True</td>\n",
       "      <td>True</td>\n",
       "      <td>True</td>\n",
       "      <td>False</td>\n",
       "      <td>False</td>\n",
       "      <td>False</td>\n",
       "      <td>True</td>\n",
       "      <td>False</td>\n",
       "      <td>False</td>\n",
       "      <td>False</td>\n",
       "      <td>False</td>\n",
       "      <td>False</td>\n",
       "      <td>False</td>\n",
       "      <td>False</td>\n",
       "      <td>True</td>\n",
       "    </tr>\n",
       "  </tbody>\n",
       "</table>\n",
       "</div>"
      ],
      "text/plain": [
       "     ATBAT  HITS  HMRUN  RUNS   RBI  WALKS  YEARS  CATBAT  CHITS  CHMRUN  CRUNS  CRBI  CWALKS  PUTOUTS  ASSISTS  ERRORS  NEW_C_RUNS_RATIO  NEW_C_ATBAT_RATIO  NEW_C_HITS_RATIO  NEW_C_HMRUN_RATIO  NEW_C_RBI_RATIO  NEW_C_WALKS_RATIO  NEW_C_HIT_RATE  NEW_C_RUNNER  NEW_C_HIT-AND-RUN  NEW_C_HMHITS_RATIO  NEW_C_HMATBAT_RATIO  NEW_CATBAT_MEAN  NEW_CHITS_MEAN  NEW_CHMRUN_MEAN  NEW_CRUNS_MEAN  NEW_CRBI_MEAN  NEW_CWALKS_MEAN  LEAGUE_N  DIVISION_W  NEWLEAGUE_N  NEW_YEARS_LEVEL_Junior  NEW_YEARS_LEVEL_Mid   \n",
       "95   -0.13  0.23   0.31  0.05  0.27  -0.03   1.00    0.07   0.09    0.01   0.09  0.19    0.21    -0.79     0.60    0.20             -0.08              -0.09             -0.02               0.18            -0.06              -0.19            0.51          0.27              -0.13               -0.18                 0.14            -0.77           -0.68            -0.34           -0.66          -0.40            -0.50      True        True         True                   False                False  \\\n",
       "27    0.25  0.37   0.08 -0.05  0.22   0.09   0.67    0.13   0.10    0.27  -0.01  0.29   -0.03     2.43     0.21    0.60             -0.04              -0.02              0.02              -0.26            -0.14               0.06           -0.11          0.51              -0.94                0.19                -0.15            -0.50           -0.50            -0.04           -0.64          -0.15            -0.61      True        True         True                   False                False   \n",
       "129   0.64  0.94   0.92  0.51  1.00   0.03   0.17    0.60   0.67    1.29   0.62  1.09    0.35     0.34    -0.16   -0.20             -0.20              -0.18             -0.15              -0.32            -0.20              -0.24            0.78          0.54              -0.42                0.52                -0.39             0.93            1.04             1.49            0.81           1.44             0.39     False        True        False                   False                False   \n",
       "319   0.25  0.33  -0.46  0.23 -0.10   0.44   0.00   -0.08  -0.10   -0.43  -0.08 -0.42   -0.11    -0.89     0.37    0.00              0.18               0.22              0.26               0.65             0.69               0.41           -0.25         -1.22               0.07               -0.78                 3.67            -0.26           -0.31            -0.58           -0.27          -0.68            -0.24     False        True        False                   False                False   \n",
       "70   -0.42 -0.31  -0.46 -0.25 -0.41  -0.32   1.83    2.07   2.00    0.77   1.79  2.06    2.00    -0.34     0.97    0.30             -0.49              -0.53             -0.51              -0.65            -0.53              -0.57            0.12         -0.17              -0.68               -0.46                 0.81             0.69            0.64            -0.07            0.35           0.49             0.53      True        True         True                   False                False   \n",
       "\n",
       "     NEW_YEARS_LEVEL_Senior  NEW_DIV_CAT_Expert-West  NEW_DIV_CAT_Junior-East  NEW_DIV_CAT_Junior-West  NEW_DIV_CAT_Mid-East  NEW_DIV_CAT_Mid-West  NEW_DIV_CAT_Senior-East  NEW_DIV_CAT_Senior-West  NEW_PLAYER_PROGRESS_StandA  NEW_PLAYER_PROGRESS_StandN  \n",
       "95                    False                     True                    False                    False                 False                 False                    False                    False                       False                        True  \n",
       "27                     True                    False                    False                    False                 False                 False                    False                     True                       False                        True  \n",
       "129                    True                    False                    False                    False                 False                 False                    False                     True                        True                       False  \n",
       "319                    True                    False                    False                    False                 False                 False                    False                     True                        True                       False  \n",
       "70                    False                     True                    False                    False                 False                 False                    False                    False                       False                        True  "
      ]
     },
     "execution_count": 102,
     "metadata": {},
     "output_type": "execute_result"
    }
   ],
   "source": [
    "X_train.head()"
   ]
  },
  {
   "cell_type": "markdown",
   "id": "ab933152",
   "metadata": {},
   "source": [
    "- #### Prediction 2. indexed row in X_train."
   ]
  },
  {
   "cell_type": "code",
   "execution_count": 103,
   "id": "2522c9fb",
   "metadata": {},
   "outputs": [
    {
     "data": {
      "text/plain": [
       "1113.5346995640225"
      ]
     },
     "execution_count": 103,
     "metadata": {},
     "output_type": "execute_result"
    }
   ],
   "source": [
    "np.inner(X_train.iloc[2, :].values, lr_model.coef_) + lr_model.intercept_"
   ]
  },
  {
   "cell_type": "code",
   "execution_count": 104,
   "id": "471a7ea5",
   "metadata": {},
   "outputs": [
    {
     "data": {
      "text/plain": [
       "950.0"
      ]
     },
     "execution_count": 104,
     "metadata": {},
     "output_type": "execute_result"
    }
   ],
   "source": [
    "y_train.iloc[2]"
   ]
  },
  {
   "cell_type": "code",
   "execution_count": 105,
   "id": "3c9ab12a",
   "metadata": {},
   "outputs": [
    {
     "data": {
      "text/plain": [
       "464.6047963840002"
      ]
     },
     "execution_count": 105,
     "metadata": {},
     "output_type": "execute_result"
    }
   ],
   "source": [
    "np.inner(X_train.iloc[4, :].values, lr_model.coef_) + lr_model.intercept_"
   ]
  },
  {
   "cell_type": "code",
   "execution_count": 106,
   "id": "a9d5d900",
   "metadata": {},
   "outputs": [
    {
     "data": {
      "text/plain": [
       "320.0"
      ]
     },
     "execution_count": 106,
     "metadata": {},
     "output_type": "execute_result"
    }
   ],
   "source": [
    "y_train.iloc[4]"
   ]
  },
  {
   "cell_type": "markdown",
   "id": "d0a26d8e",
   "metadata": {},
   "source": [
    "- #### Train RMSE"
   ]
  },
  {
   "cell_type": "code",
   "execution_count": 107,
   "id": "e106c478",
   "metadata": {},
   "outputs": [],
   "source": [
    "y_pred = lr_model.predict(X_train)"
   ]
  },
  {
   "cell_type": "code",
   "execution_count": 108,
   "id": "0a14ac65",
   "metadata": {},
   "outputs": [
    {
     "data": {
      "text/plain": [
       "238.5114100473349"
      ]
     },
     "execution_count": 108,
     "metadata": {},
     "output_type": "execute_result"
    }
   ],
   "source": [
    "np.sqrt(mean_squared_error(y_train, y_pred))"
   ]
  },
  {
   "cell_type": "markdown",
   "id": "27ba67bc",
   "metadata": {},
   "source": [
    "- #### Train R-squared"
   ]
  },
  {
   "cell_type": "code",
   "execution_count": 109,
   "id": "4882a38f",
   "metadata": {},
   "outputs": [
    {
     "data": {
      "text/plain": [
       "0.7396680763991572"
      ]
     },
     "execution_count": 109,
     "metadata": {},
     "output_type": "execute_result"
    }
   ],
   "source": [
    "lr_model.score(X_train, y_train)"
   ]
  },
  {
   "cell_type": "markdown",
   "id": "a00b62d8",
   "metadata": {},
   "source": [
    "- #### Test RMSE"
   ]
  },
  {
   "cell_type": "code",
   "execution_count": 110,
   "id": "cdfa16f7",
   "metadata": {},
   "outputs": [],
   "source": [
    "y_pred = lr_model.predict(X_test)"
   ]
  },
  {
   "cell_type": "code",
   "execution_count": 111,
   "id": "4c5eebfd",
   "metadata": {},
   "outputs": [
    {
     "data": {
      "text/plain": [
       "232.24499727532498"
      ]
     },
     "execution_count": 111,
     "metadata": {},
     "output_type": "execute_result"
    }
   ],
   "source": [
    "np.sqrt(mean_squared_error(y_test, y_pred))"
   ]
  },
  {
   "cell_type": "code",
   "execution_count": 112,
   "id": "18db5f8a",
   "metadata": {},
   "outputs": [
    {
     "data": {
      "text/plain": [
       "0.6125760417346662"
      ]
     },
     "execution_count": 112,
     "metadata": {},
     "output_type": "execute_result"
    }
   ],
   "source": [
    "lr_model.score(X_test, y_test)"
   ]
  },
  {
   "cell_type": "markdown",
   "id": "bed62dd8",
   "metadata": {},
   "source": [
    "- #### Used Holdout method as you can see so scores are not stable and satifying so triying 10 Fold Cross Validation can help to evaluate results."
   ]
  },
  {
   "cell_type": "code",
   "execution_count": 113,
   "id": "6e01bceb",
   "metadata": {},
   "outputs": [
    {
     "data": {
      "text/plain": [
       "296.69280034207566"
      ]
     },
     "execution_count": 113,
     "metadata": {},
     "output_type": "execute_result"
    }
   ],
   "source": [
    "np.mean(np.sqrt(-cross_val_score(lr_model,\n",
    "                                X,\n",
    "                                y,\n",
    "                                cv = 10,\n",
    "                                scoring = \"neg_mean_squared_error\")))"
   ]
  },
  {
   "cell_type": "markdown",
   "id": "0f145f0d",
   "metadata": {},
   "source": [
    "- #### There is a large decrease in R square values between the train and test sets.\n",
    "- #### This actually shows that the variables represented the data set well in the training part, but decreased in the testing part, meaning that the model memorized the observations and could not generalize them.This means overfit 🤦‍♂️."
   ]
  },
  {
   "cell_type": "markdown",
   "id": "8ffed63d",
   "metadata": {},
   "source": [
    "- #### It's actually not surprising to see model overfitting.\n",
    "- #### There are 49 features for almost 300 observations in the last stage of feature engineering. There were too many variables for this much data and the number of data in each class was small. Therefore, the model is expected to memorize the data set."
   ]
  },
  {
   "cell_type": "markdown",
   "id": "bcaecf68",
   "metadata": {},
   "source": [
    "- #### If we proceed in the correlation stage by removing dependent variables with high correlations from the data set, this overfit rate will decrease.\n",
    "- #### In addition, using different modeling algorithms can change results. In iterative models, we have the ability to see the learning situation on an iteration basis so that evaluation can be made.\n",
    "- #### Of course adding more data intuitively comes to mind as first solution."
   ]
  },
  {
   "cell_type": "markdown",
   "id": "8295ae30",
   "metadata": {},
   "source": [
    "- #### Reducing the low representation of classes, used rare encoding but this method can not able to evaluate feature importances.\n",
    "- #### Using iterative methods can solve this problem."
   ]
  }
 ],
 "metadata": {
  "kernelspec": {
   "display_name": "Python 3 (ipykernel)",
   "language": "python",
   "name": "python3"
  },
  "language_info": {
   "codemirror_mode": {
    "name": "ipython",
    "version": 3
   },
   "file_extension": ".py",
   "mimetype": "text/x-python",
   "name": "python",
   "nbconvert_exporter": "python",
   "pygments_lexer": "ipython3",
   "version": "3.10.13"
  }
 },
 "nbformat": 4,
 "nbformat_minor": 5
}
